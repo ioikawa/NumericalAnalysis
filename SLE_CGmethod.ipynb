{
 "cells": [
  {
   "cell_type": "markdown",
   "id": "00ba560a-ed92-47ae-b24a-3851c9e1b8b8",
   "metadata": {},
   "source": [
    "# CG法\n",
    "\n",
    "## JuliaによるCG法の実装 (from scratch)\n",
    "JuliaでCG法を0から実装し，次の連立１次方程式（[齊藤共立，例3.21]と同じ問題）を\n",
    "テスト問題として近似解を計算してみよう．\n",
    "\n",
    "$$\n",
    " \\begin{pmatrix}\n",
    "\t3 & -1 & 2 \\\\ -1 & 4 & 1 \\\\ 2 & 1 & 3\n",
    " \\end{pmatrix}\t\n",
    " \\begin{pmatrix} x_1 \\\\ x_2 \\\\ x_3 \\end{pmatrix}\n",
    " =\n",
    " \\begin{pmatrix} 4 \\\\ 4 \\\\ 6 \\end{pmatrix}\n",
    "$$\n",
    "\n",
    "厳密解は$x_1 = x_2 = x_3 = 1$である．$A$は正定値対称行列である．\n"
   ]
  },
  {
   "cell_type": "code",
   "execution_count": 1,
   "id": "861542a1-5779-469f-81ba-6696e45a0bde",
   "metadata": {},
   "outputs": [
    {
     "name": "stdout",
     "output_type": "stream",
     "text": [
      "eigvals(A) = [0.4384471871911705, 4.561552812808831, 5.0]\n",
      "(i, Float32.(x), norm(r) / norm(r0)) = (1, Float32[0.8192771, 0.8192771, 1.2289157], 0.04344037681281916)\n",
      "(i, Float32.(x), norm(r) / norm(r0)) = (2, Float32[0.7968128, 0.90039843, 1.1952192], 0.017419813390342823)\n",
      "(i, Float32.(x), norm(r) / norm(r0)) = (3, Float32[1.0, 1.0, 1.0], 4.687735131751619e-16)\n",
      "x = [1.000000000000001, 1.0000000000000009, 0.9999999999999999]\n"
     ]
    },
    {
     "data": {
      "text/plain": [
       "3-element Vector{Float64}:\n",
       " 1.000000000000001\n",
       " 1.0000000000000009\n",
       " 0.9999999999999999"
      ]
     },
     "execution_count": 1,
     "metadata": {},
     "output_type": "execute_result"
    }
   ],
   "source": [
    "using LinearAlgebra\n",
    "\n",
    "A = Float64[3 -1 2; -1 4 1; 2 1 3]\n",
    "b = Float64[4, 4, 6]\n",
    "x = [0, 0, 0]   # 初期値\n",
    "r = r0 = b - A*x  # 初期残差\n",
    "p = r\n",
    "tol = 1e-6   # 停止条件のtolerance\n",
    "maxiter = 100  # 最大反復回数（適宜，多めに回数に設定する）\n",
    "\n",
    "# 固有値の確認\n",
    "@show eigvals(A)\n",
    "\n",
    "# CG法による反復計算\n",
    "for i in 1:maxiter\n",
    "    alpha = r'*p/(p'*A*p)\n",
    "    xx = x + alpha*p\n",
    "    # 停止条件\n",
    "    # (norm(xx - x) < tol) && break\n",
    "    x = xx\n",
    "    r = r - alpha*A*p\n",
    "    @show i, Float32.(x), norm(r)/norm(r0)    # 途中経過の表示\n",
    "    (norm(r) < tol*norm(r0)) && break\n",
    "    beta = r'*A*p/(p'*A*p)\n",
    "    p = r - beta*p\n",
    "end\n",
    "@show x   # 数値解の表示"
   ]
  },
  {
   "cell_type": "markdown",
   "id": "876c0ff9-ff65-46d0-9aa9-4e2af94aac2a",
   "metadata": {},
   "source": [
    "この場合は3回の反復で厳密解が得られている．\n",
    "\n",
    "最大反復回数と停止条件のtoleranceは問題に応じて適切な数値に適宜変更されたい．\n",
    "なお，途中経過を表示するコードのところで`Float.32(x)`と単精度型に変換しているのは\n",
    "表示桁数を減らすためである．"
   ]
  },
  {
   "cell_type": "markdown",
   "id": "af08eb2d-9580-49ee-97db-d08aeed0dea7",
   "metadata": {},
   "source": [
    "## IterativeSolvers.jl \n",
    "IterativeSolversパッケージには CG法などの反復法が実装されている．詳細は公式ドキュメントの[Conjugate Gradients (CG)](https://iterativesolvers.julialinearalgebra.org/stable/)を参照．\n",
    "\n",
    "`Ax = b` をCG法で解くには，`cg(A,b)` を実行すればよい．\n"
   ]
  },
  {
   "cell_type": "code",
   "execution_count": 2,
   "id": "2d20e417-6ccf-456a-9677-13be9c22fdab",
   "metadata": {},
   "outputs": [],
   "source": [
    "# パッケージの追加\n",
    "#]add IterativeSolvers "
   ]
  },
  {
   "cell_type": "code",
   "execution_count": 3,
   "id": "3b370c48-91f7-4b60-af1c-181a4249a944",
   "metadata": {},
   "outputs": [
    {
     "data": {
      "text/plain": [
       "3-element Vector{Float64}:\n",
       " 1.0000000000000007\n",
       " 1.0000000000000004\n",
       " 0.9999999999999991"
      ]
     },
     "execution_count": 3,
     "metadata": {},
     "output_type": "execute_result"
    }
   ],
   "source": [
    "using IterativeSolvers\n",
    "A = Float64[3 -1 2; -1 4 1; 2 1 3]\n",
    "b = Float64[4, 4, 6]\n",
    "x = cg(A,b)  # CG法"
   ]
  },
  {
   "cell_type": "markdown",
   "id": "5997a2a7-7021-4fc3-8397-8848ea289cb8",
   "metadata": {},
   "source": [
    "収束履歴(convergence history)を含むログを取得したい場合は，キーワード引数で `log=true` を与える．\n",
    "第2戻り値にログが格納される．"
   ]
  },
  {
   "cell_type": "code",
   "execution_count": 4,
   "id": "ad6fda10-f466-48e5-89bd-aecc7b307958",
   "metadata": {},
   "outputs": [
    {
     "data": {
      "text/plain": [
       "([1.0000000000000007, 1.0000000000000004, 0.9999999999999991], Converged after 3 iterations.)"
      ]
     },
     "execution_count": 4,
     "metadata": {},
     "output_type": "execute_result"
    }
   ],
   "source": [
    "x,ch = cg(A,b,log=true)"
   ]
  },
  {
   "cell_type": "markdown",
   "id": "08a7cba0-8fec-4ae8-b61c-66bb9e1ff834",
   "metadata": {},
   "source": [
    "3回の反復後，相対残差 $\\dfrac{\\|\\vec{r}_k\\|}{\\|\\vec{r}_0\\|}$ が tolerance を下回り停止したことがわかる．"
   ]
  },
  {
   "cell_type": "code",
   "execution_count": 5,
   "id": "9cae286f-404b-4d60-8d21-151ff9065b5b",
   "metadata": {},
   "outputs": [
    {
     "data": {
      "image/png": "[encoded data removed]",
      "image/svg+xml": [
       "<?xml version=\"1.0\" encoding=\"utf-8\"?>\n",
       "<svg xmlns=\"http://www.w3.org/2000/svg\" xmlns:xlink=\"http://www.w3.org/1999/xlink\" width=\"600\" height=\"400\" viewBox=\"0 0 2400 1600\">\n",
       "<defs>\n",
       "  <clipPath id=\"clip390\">\n",
       "    <rect x=\"0\" y=\"0\" width=\"2400\" height=\"1600\"/>\n",
       "  </clipPath>\n",
       "</defs>\n",
       "<path clip-path=\"url(#clip390)\" d=\"M0 1600 L2400 1600 L2400 0 L0 0  Z\" fill=\"#ffffff\" fill-rule=\"evenodd\" fill-opacity=\"1\"/>\n",
       "<defs>\n",
       "  <clipPath id=\"clip391\">\n",
       "    <rect x=\"480\" y=\"0\" width=\"1681\" height=\"1600\"/>\n",
       "  </clipPath>\n",
       "</defs>\n",
       "<path clip-path=\"url(#clip390)\" d=\"M213.607 1486.45 L2352.76 1486.45 L2352.76 47.2441 L213.607 47.2441  Z\" fill=\"#ffffff\" fill-rule=\"evenodd\" fill-opacity=\"1\"/>\n",
       "<defs>\n",
       "  <clipPath id=\"clip392\">\n",
       "    <rect x=\"213\" y=\"47\" width=\"2140\" height=\"1440\"/>\n",
       "  </clipPath>\n",
       "</defs>\n",
       "<polyline clip-path=\"url(#clip392)\" style=\"stroke:#000000; stroke-linecap:round; stroke-linejoin:round; stroke-width:2; stroke-opacity:0.1; fill:none\" points=\"274.149,1486.45 274.149,47.2441 \"/>\n",
       "<polyline clip-path=\"url(#clip392)\" style=\"stroke:#000000; stroke-linecap:round; stroke-linejoin:round; stroke-width:2; stroke-opacity:0.1; fill:none\" points=\"778.666,1486.45 778.666,47.2441 \"/>\n",
       "<polyline clip-path=\"url(#clip392)\" style=\"stroke:#000000; stroke-linecap:round; stroke-linejoin:round; stroke-width:2; stroke-opacity:0.1; fill:none\" points=\"1283.18,1486.45 1283.18,47.2441 \"/>\n",
       "<polyline clip-path=\"url(#clip392)\" style=\"stroke:#000000; stroke-linecap:round; stroke-linejoin:round; stroke-width:2; stroke-opacity:0.1; fill:none\" points=\"1787.7,1486.45 1787.7,47.2441 \"/>\n",
       "<polyline clip-path=\"url(#clip392)\" style=\"stroke:#000000; stroke-linecap:round; stroke-linejoin:round; stroke-width:2; stroke-opacity:0.1; fill:none\" points=\"2292.21,1486.45 2292.21,47.2441 \"/>\n",
       "<polyline clip-path=\"url(#clip390)\" style=\"stroke:#000000; stroke-linecap:round; stroke-linejoin:round; stroke-width:4; stroke-opacity:1; fill:none\" points=\"213.607,1486.45 2352.76,1486.45 \"/>\n",
       "<polyline clip-path=\"url(#clip390)\" style=\"stroke:#000000; stroke-linecap:round; stroke-linejoin:round; stroke-width:4; stroke-opacity:1; fill:none\" points=\"274.149,1486.45 274.149,1467.55 \"/>\n",
       "<polyline clip-path=\"url(#clip390)\" style=\"stroke:#000000; stroke-linecap:round; stroke-linejoin:round; stroke-width:4; stroke-opacity:1; fill:none\" points=\"778.666,1486.45 778.666,1467.55 \"/>\n",
       "<polyline clip-path=\"url(#clip390)\" style=\"stroke:#000000; stroke-linecap:round; stroke-linejoin:round; stroke-width:4; stroke-opacity:1; fill:none\" points=\"1283.18,1486.45 1283.18,1467.55 \"/>\n",
       "<polyline clip-path=\"url(#clip390)\" style=\"stroke:#000000; stroke-linecap:round; stroke-linejoin:round; stroke-width:4; stroke-opacity:1; fill:none\" points=\"1787.7,1486.45 1787.7,1467.55 \"/>\n",
       "<polyline clip-path=\"url(#clip390)\" style=\"stroke:#000000; stroke-linecap:round; stroke-linejoin:round; stroke-width:4; stroke-opacity:1; fill:none\" points=\"2292.21,1486.45 2292.21,1467.55 \"/>\n",
       "<path clip-path=\"url(#clip390)\" d=\"M241.302 1544.91 L248.941 1544.91 L248.941 1518.55 L240.631 1520.21 L240.631 1515.95 L248.895 1514.29 L253.571 1514.29 L253.571 1544.91 L261.21 1544.91 L261.21 1548.85 L241.302 1548.85 L241.302 1544.91 Z\" fill=\"#000000\" fill-rule=\"nonzero\" fill-opacity=\"1\" /><path clip-path=\"url(#clip390)\" d=\"M270.654 1542.97 L275.538 1542.97 L275.538 1548.85 L270.654 1548.85 L270.654 1542.97 Z\" fill=\"#000000\" fill-rule=\"nonzero\" fill-opacity=\"1\" /><path clip-path=\"url(#clip390)\" d=\"M295.723 1517.37 Q292.112 1517.37 290.284 1520.93 Q288.478 1524.47 288.478 1531.6 Q288.478 1538.71 290.284 1542.27 Q292.112 1545.82 295.723 1545.82 Q299.358 1545.82 301.163 1542.27 Q302.992 1538.71 302.992 1531.6 Q302.992 1524.47 301.163 1520.93 Q299.358 1517.37 295.723 1517.37 M295.723 1513.66 Q301.534 1513.66 304.589 1518.27 Q307.668 1522.85 307.668 1531.6 Q307.668 1540.33 304.589 1544.94 Q301.534 1549.52 295.723 1549.52 Q289.913 1549.52 286.835 1544.94 Q283.779 1540.33 283.779 1531.6 Q283.779 1522.85 286.835 1518.27 Q289.913 1513.66 295.723 1513.66 Z\" fill=\"#000000\" fill-rule=\"nonzero\" fill-opacity=\"1\" /><path clip-path=\"url(#clip390)\" d=\"M746.316 1544.91 L753.955 1544.91 L753.955 1518.55 L745.645 1520.21 L745.645 1515.95 L753.909 1514.29 L758.585 1514.29 L758.585 1544.91 L766.223 1544.91 L766.223 1548.85 L746.316 1548.85 L746.316 1544.91 Z\" fill=\"#000000\" fill-rule=\"nonzero\" fill-opacity=\"1\" /><path clip-path=\"url(#clip390)\" d=\"M775.668 1542.97 L780.552 1542.97 L780.552 1548.85 L775.668 1548.85 L775.668 1542.97 Z\" fill=\"#000000\" fill-rule=\"nonzero\" fill-opacity=\"1\" /><path clip-path=\"url(#clip390)\" d=\"M790.784 1514.29 L809.14 1514.29 L809.14 1518.22 L795.066 1518.22 L795.066 1526.7 Q796.084 1526.35 797.103 1526.19 Q798.121 1526 799.14 1526 Q804.927 1526 808.307 1529.17 Q811.686 1532.34 811.686 1537.76 Q811.686 1543.34 808.214 1546.44 Q804.742 1549.52 798.422 1549.52 Q796.246 1549.52 793.978 1549.15 Q791.733 1548.78 789.325 1548.04 L789.325 1543.34 Q791.409 1544.47 793.631 1545.03 Q795.853 1545.58 798.33 1545.58 Q802.334 1545.58 804.672 1543.48 Q807.01 1541.37 807.01 1537.76 Q807.01 1534.15 804.672 1532.04 Q802.334 1529.94 798.33 1529.94 Q796.455 1529.94 794.58 1530.35 Q792.728 1530.77 790.784 1531.65 L790.784 1514.29 Z\" fill=\"#000000\" fill-rule=\"nonzero\" fill-opacity=\"1\" /><path clip-path=\"url(#clip390)\" d=\"M1254.42 1544.91 L1270.74 1544.91 L1270.74 1548.85 L1248.8 1548.85 L1248.8 1544.91 Q1251.46 1542.16 1256.04 1537.53 Q1260.65 1532.88 1261.83 1531.53 Q1264.07 1529.01 1264.95 1527.27 Q1265.86 1525.51 1265.86 1523.82 Q1265.86 1521.07 1263.91 1519.33 Q1261.99 1517.6 1258.89 1517.6 Q1256.69 1517.6 1254.24 1518.36 Q1251.8 1519.13 1249.03 1520.68 L1249.03 1515.95 Q1251.85 1514.82 1254.3 1514.24 Q1256.76 1513.66 1258.8 1513.66 Q1264.17 1513.66 1267.36 1516.35 Q1270.55 1519.03 1270.55 1523.52 Q1270.55 1525.65 1269.74 1527.57 Q1268.96 1529.47 1266.85 1532.07 Q1266.27 1532.74 1263.17 1535.95 Q1260.07 1539.15 1254.42 1544.91 Z\" fill=\"#000000\" fill-rule=\"nonzero\" fill-opacity=\"1\" /><path clip-path=\"url(#clip390)\" d=\"M1280.55 1542.97 L1285.44 1542.97 L1285.44 1548.85 L1280.55 1548.85 L1280.55 1542.97 Z\" fill=\"#000000\" fill-rule=\"nonzero\" fill-opacity=\"1\" /><path clip-path=\"url(#clip390)\" d=\"M1305.62 1517.37 Q1302.01 1517.37 1300.18 1520.93 Q1298.38 1524.47 1298.38 1531.6 Q1298.38 1538.71 1300.18 1542.27 Q1302.01 1545.82 1305.62 1545.82 Q1309.26 1545.82 1311.06 1542.27 Q1312.89 1538.71 1312.89 1531.6 Q1312.89 1524.47 1311.06 1520.93 Q1309.26 1517.37 1305.62 1517.37 M1305.62 1513.66 Q1311.43 1513.66 1314.49 1518.27 Q1317.57 1522.85 1317.57 1531.6 Q1317.57 1540.33 1314.49 1544.94 Q1311.43 1549.52 1305.62 1549.52 Q1299.81 1549.52 1296.73 1544.94 Q1293.68 1540.33 1293.68 1531.6 Q1293.68 1522.85 1296.73 1518.27 Q1299.81 1513.66 1305.62 1513.66 Z\" fill=\"#000000\" fill-rule=\"nonzero\" fill-opacity=\"1\" /><path clip-path=\"url(#clip390)\" d=\"M1759.43 1544.91 L1775.75 1544.91 L1775.75 1548.85 L1753.81 1548.85 L1753.81 1544.91 Q1756.47 1542.16 1761.05 1537.53 Q1765.66 1532.88 1766.84 1531.53 Q1769.09 1529.01 1769.97 1527.27 Q1770.87 1525.51 1770.87 1523.82 Q1770.87 1521.07 1768.92 1519.33 Q1767 1517.6 1763.9 1517.6 Q1761.7 1517.6 1759.25 1518.36 Q1756.82 1519.13 1754.04 1520.68 L1754.04 1515.95 Q1756.86 1514.82 1759.32 1514.24 Q1761.77 1513.66 1763.81 1513.66 Q1769.18 1513.66 1772.37 1516.35 Q1775.57 1519.03 1775.57 1523.52 Q1775.57 1525.65 1774.76 1527.57 Q1773.97 1529.47 1771.86 1532.07 Q1771.29 1532.74 1768.18 1535.95 Q1765.08 1539.15 1759.43 1544.91 Z\" fill=\"#000000\" fill-rule=\"nonzero\" fill-opacity=\"1\" /><path clip-path=\"url(#clip390)\" d=\"M1785.57 1542.97 L1790.45 1542.97 L1790.45 1548.85 L1785.57 1548.85 L1785.57 1542.97 Z\" fill=\"#000000\" fill-rule=\"nonzero\" fill-opacity=\"1\" /><path clip-path=\"url(#clip390)\" d=\"M1800.68 1514.29 L1819.04 1514.29 L1819.04 1518.22 L1804.97 1518.22 L1804.97 1526.7 Q1805.98 1526.35 1807 1526.19 Q1808.02 1526 1809.04 1526 Q1814.83 1526 1818.21 1529.17 Q1821.59 1532.34 1821.59 1537.76 Q1821.59 1543.34 1818.11 1546.44 Q1814.64 1549.52 1808.32 1549.52 Q1806.15 1549.52 1803.88 1549.15 Q1801.63 1548.78 1799.23 1548.04 L1799.23 1543.34 Q1801.31 1544.47 1803.53 1545.03 Q1805.75 1545.58 1808.23 1545.58 Q1812.23 1545.58 1814.57 1543.48 Q1816.91 1541.37 1816.91 1537.76 Q1816.91 1534.15 1814.57 1532.04 Q1812.23 1529.94 1808.23 1529.94 Q1806.36 1529.94 1804.48 1530.35 Q1802.63 1530.77 1800.68 1531.65 L1800.68 1514.29 Z\" fill=\"#000000\" fill-rule=\"nonzero\" fill-opacity=\"1\" /><path clip-path=\"url(#clip390)\" d=\"M2273.52 1530.21 Q2276.88 1530.93 2278.75 1533.2 Q2280.65 1535.47 2280.65 1538.8 Q2280.65 1543.92 2277.13 1546.72 Q2273.61 1549.52 2267.13 1549.52 Q2264.96 1549.52 2262.64 1549.08 Q2260.35 1548.66 2257.9 1547.81 L2257.9 1543.29 Q2259.84 1544.43 2262.16 1545.01 Q2264.47 1545.58 2266.99 1545.58 Q2271.39 1545.58 2273.68 1543.85 Q2276 1542.11 2276 1538.8 Q2276 1535.75 2273.85 1534.03 Q2271.72 1532.3 2267.9 1532.3 L2263.87 1532.3 L2263.87 1528.45 L2268.08 1528.45 Q2271.53 1528.45 2273.36 1527.09 Q2275.19 1525.7 2275.19 1523.11 Q2275.19 1520.45 2273.29 1519.03 Q2271.42 1517.6 2267.9 1517.6 Q2265.98 1517.6 2263.78 1518.01 Q2261.58 1518.43 2258.94 1519.31 L2258.94 1515.14 Q2261.6 1514.4 2263.92 1514.03 Q2266.25 1513.66 2268.31 1513.66 Q2273.64 1513.66 2276.74 1516.09 Q2279.84 1518.5 2279.84 1522.62 Q2279.84 1525.49 2278.2 1527.48 Q2276.55 1529.45 2273.52 1530.21 Z\" fill=\"#000000\" fill-rule=\"nonzero\" fill-opacity=\"1\" /><path clip-path=\"url(#clip390)\" d=\"M2289.52 1542.97 L2294.4 1542.97 L2294.4 1548.85 L2289.52 1548.85 L2289.52 1542.97 Z\" fill=\"#000000\" fill-rule=\"nonzero\" fill-opacity=\"1\" /><path clip-path=\"url(#clip390)\" d=\"M2314.59 1517.37 Q2310.98 1517.37 2309.15 1520.93 Q2307.34 1524.47 2307.34 1531.6 Q2307.34 1538.71 2309.15 1542.27 Q2310.98 1545.82 2314.59 1545.82 Q2318.22 1545.82 2320.03 1542.27 Q2321.86 1538.71 2321.86 1531.6 Q2321.86 1524.47 2320.03 1520.93 Q2318.22 1517.37 2314.59 1517.37 M2314.59 1513.66 Q2320.4 1513.66 2323.45 1518.27 Q2326.53 1522.85 2326.53 1531.6 Q2326.53 1540.33 2323.45 1544.94 Q2320.4 1549.52 2314.59 1549.52 Q2308.78 1549.52 2305.7 1544.94 Q2302.64 1540.33 2302.64 1531.6 Q2302.64 1522.85 2305.7 1518.27 Q2308.78 1513.66 2314.59 1513.66 Z\" fill=\"#000000\" fill-rule=\"nonzero\" fill-opacity=\"1\" /><polyline clip-path=\"url(#clip392)\" style=\"stroke:#000000; stroke-linecap:round; stroke-linejoin:round; stroke-width:2; stroke-opacity:0.1; fill:none\" points=\"213.607,915.218 2352.76,915.218 \"/>\n",
       "<polyline clip-path=\"url(#clip392)\" style=\"stroke:#000000; stroke-linecap:round; stroke-linejoin:round; stroke-width:2; stroke-opacity:0.1; fill:none\" points=\"213.607,49.3724 2352.76,49.3724 \"/>\n",
       "<polyline clip-path=\"url(#clip390)\" style=\"stroke:#000000; stroke-linecap:round; stroke-linejoin:round; stroke-width:4; stroke-opacity:1; fill:none\" points=\"213.607,1486.45 213.607,47.2441 \"/>\n",
       "<polyline clip-path=\"url(#clip390)\" style=\"stroke:#000000; stroke-linecap:round; stroke-linejoin:round; stroke-width:4; stroke-opacity:1; fill:none\" points=\"213.607,915.218 232.505,915.218 \"/>\n",
       "<polyline clip-path=\"url(#clip390)\" style=\"stroke:#000000; stroke-linecap:round; stroke-linejoin:round; stroke-width:4; stroke-opacity:1; fill:none\" points=\"213.607,49.3724 232.505,49.3724 \"/>\n",
       "<path clip-path=\"url(#clip390)\" d=\"M51.6634 935.011 L59.3023 935.011 L59.3023 908.645 L50.9921 910.312 L50.9921 906.053 L59.256 904.386 L63.9319 904.386 L63.9319 935.011 L71.5707 935.011 L71.5707 938.946 L51.6634 938.946 L51.6634 935.011 Z\" fill=\"#000000\" fill-rule=\"nonzero\" fill-opacity=\"1\" /><path clip-path=\"url(#clip390)\" d=\"M91.0151 907.465 Q87.404 907.465 85.5753 911.029 Q83.7697 914.571 83.7697 921.701 Q83.7697 928.807 85.5753 932.372 Q87.404 935.914 91.0151 935.914 Q94.6493 935.914 96.4548 932.372 Q98.2835 928.807 98.2835 921.701 Q98.2835 914.571 96.4548 911.029 Q94.6493 907.465 91.0151 907.465 M91.0151 903.761 Q96.8252 903.761 99.8808 908.367 Q102.959 912.951 102.959 921.701 Q102.959 930.428 99.8808 935.034 Q96.8252 939.617 91.0151 939.617 Q85.2049 939.617 82.1262 935.034 Q79.0707 930.428 79.0707 921.701 Q79.0707 912.951 82.1262 908.367 Q85.2049 903.761 91.0151 903.761 Z\" fill=\"#000000\" fill-rule=\"nonzero\" fill-opacity=\"1\" /><path clip-path=\"url(#clip390)\" d=\"M102.959 897.862 L127.071 897.862 L127.071 901.06 L102.959 901.06 L102.959 897.862 Z\" fill=\"#000000\" fill-rule=\"nonzero\" fill-opacity=\"1\" /><path clip-path=\"url(#clip390)\" d=\"M135.929 908.338 L142.136 908.338 L142.136 886.916 L135.384 888.27 L135.384 884.81 L142.098 883.456 L145.898 883.456 L145.898 908.338 L152.104 908.338 L152.104 911.536 L135.929 911.536 L135.929 908.338 Z\" fill=\"#000000\" fill-rule=\"nonzero\" fill-opacity=\"1\" /><path clip-path=\"url(#clip390)\" d=\"M167.903 885.957 Q164.969 885.957 163.483 888.853 Q162.016 891.731 162.016 897.524 Q162.016 903.298 163.483 906.194 Q164.969 909.072 167.903 909.072 Q170.855 909.072 172.322 906.194 Q173.808 903.298 173.808 897.524 Q173.808 891.731 172.322 888.853 Q170.855 885.957 167.903 885.957 M167.903 882.948 Q172.623 882.948 175.106 886.691 Q177.607 890.414 177.607 897.524 Q177.607 904.614 175.106 908.357 Q172.623 912.081 167.903 912.081 Q163.182 912.081 160.68 908.357 Q158.198 904.614 158.198 897.524 Q158.198 890.414 160.68 886.691 Q163.182 882.948 167.903 882.948 Z\" fill=\"#000000\" fill-rule=\"nonzero\" fill-opacity=\"1\" /><path clip-path=\"url(#clip390)\" d=\"M106.902 69.1648 L114.541 69.1648 L114.541 42.7992 L106.231 44.4659 L106.231 40.2066 L114.494 38.54 L119.17 38.54 L119.17 69.1648 L126.809 69.1648 L126.809 73.1 L106.902 73.1 L106.902 69.1648 Z\" fill=\"#000000\" fill-rule=\"nonzero\" fill-opacity=\"1\" /><path clip-path=\"url(#clip390)\" d=\"M146.253 41.6186 Q142.642 41.6186 140.814 45.1834 Q139.008 48.7251 139.008 55.8547 Q139.008 62.9611 140.814 66.5259 Q142.642 70.0676 146.253 70.0676 Q149.888 70.0676 151.693 66.5259 Q153.522 62.9611 153.522 55.8547 Q153.522 48.7251 151.693 45.1834 Q149.888 41.6186 146.253 41.6186 M146.253 37.915 Q152.064 37.915 155.119 42.5214 Q158.198 47.1047 158.198 55.8547 Q158.198 64.5815 155.119 69.1879 Q152.064 73.7713 146.253 73.7713 Q140.443 73.7713 137.365 69.1879 Q134.309 64.5815 134.309 55.8547 Q134.309 47.1047 137.365 42.5214 Q140.443 37.915 146.253 37.915 Z\" fill=\"#000000\" fill-rule=\"nonzero\" fill-opacity=\"1\" /><path clip-path=\"url(#clip390)\" d=\"M167.903 20.111 Q164.969 20.111 163.483 23.0074 Q162.016 25.885 162.016 31.6778 Q162.016 37.4518 163.483 40.3482 Q164.969 43.2257 167.903 43.2257 Q170.855 43.2257 172.322 40.3482 Q173.808 37.4518 173.808 31.6778 Q173.808 25.885 172.322 23.0074 Q170.855 20.111 167.903 20.111 M167.903 17.1018 Q172.623 17.1018 175.106 20.8445 Q177.607 24.5684 177.607 31.6778 Q177.607 38.7683 175.106 42.511 Q172.623 46.235 167.903 46.235 Q163.182 46.235 160.68 42.511 Q158.198 38.7683 158.198 31.6778 Q158.198 24.5684 160.68 20.8445 Q163.182 17.1018 167.903 17.1018 Z\" fill=\"#000000\" fill-rule=\"nonzero\" fill-opacity=\"1\" /><polyline clip-path=\"url(#clip392)\" style=\"stroke:#009af9; stroke-linecap:round; stroke-linejoin:round; stroke-width:4; stroke-opacity:1; fill:none\" points=\"274.149,87.9763 1283.18,122.337 2292.21,1445.72 \"/>\n",
       "<path clip-path=\"url(#clip390)\" d=\"M1879.67 198.898 L2281.45 198.898 L2281.45 95.2176 L1879.67 95.2176  Z\" fill=\"#ffffff\" fill-rule=\"evenodd\" fill-opacity=\"1\"/>\n",
       "<polyline clip-path=\"url(#clip390)\" style=\"stroke:#000000; stroke-linecap:round; stroke-linejoin:round; stroke-width:4; stroke-opacity:1; fill:none\" points=\"1879.67,198.898 2281.45,198.898 2281.45,95.2176 1879.67,95.2176 1879.67,198.898 \"/>\n",
       "<polyline clip-path=\"url(#clip390)\" style=\"stroke:#009af9; stroke-linecap:round; stroke-linejoin:round; stroke-width:4; stroke-opacity:1; fill:none\" points=\"1903.44,147.058 2046.04,147.058 \"/>\n",
       "<path clip-path=\"url(#clip390)\" d=\"M2085 142.393 Q2084.28 141.977 2083.42 141.791 Q2082.59 141.583 2081.57 141.583 Q2077.96 141.583 2076.02 143.944 Q2074.1 146.282 2074.1 150.68 L2074.1 164.338 L2069.81 164.338 L2069.81 138.412 L2074.1 138.412 L2074.1 142.44 Q2075.44 140.078 2077.59 138.944 Q2079.74 137.787 2082.82 137.787 Q2083.26 137.787 2083.79 137.856 Q2084.33 137.903 2084.98 138.018 L2085 142.393 Z\" fill=\"#000000\" fill-rule=\"nonzero\" fill-opacity=\"1\" /><path clip-path=\"url(#clip390)\" d=\"M2110.6 150.31 L2110.6 152.393 L2091.02 152.393 Q2091.29 156.791 2093.66 159.106 Q2096.04 161.398 2100.28 161.398 Q2102.73 161.398 2105.02 160.796 Q2107.34 160.194 2109.6 158.99 L2109.6 163.018 Q2107.31 163.99 2104.91 164.5 Q2102.5 165.009 2100.02 165.009 Q2093.82 165.009 2090.18 161.398 Q2086.57 157.787 2086.57 151.629 Q2086.57 145.264 2090 141.537 Q2093.45 137.787 2099.28 137.787 Q2104.51 137.787 2107.54 141.166 Q2110.6 144.523 2110.6 150.31 M2106.34 149.06 Q2106.29 145.565 2104.37 143.481 Q2102.48 141.398 2099.33 141.398 Q2095.76 141.398 2093.61 143.412 Q2091.48 145.426 2091.16 149.083 L2106.34 149.06 Z\" fill=\"#000000\" fill-rule=\"nonzero\" fill-opacity=\"1\" /><path clip-path=\"url(#clip390)\" d=\"M2134.12 139.176 L2134.12 143.203 Q2132.31 142.277 2130.37 141.815 Q2128.42 141.352 2126.34 141.352 Q2123.17 141.352 2121.57 142.324 Q2120 143.296 2120 145.24 Q2120 146.722 2121.13 147.578 Q2122.27 148.412 2125.69 149.176 L2127.15 149.5 Q2131.69 150.472 2133.59 152.254 Q2135.51 154.014 2135.51 157.185 Q2135.51 160.796 2132.64 162.902 Q2129.79 165.009 2124.79 165.009 Q2122.71 165.009 2120.44 164.592 Q2118.19 164.199 2115.69 163.388 L2115.69 158.99 Q2118.05 160.217 2120.35 160.842 Q2122.64 161.444 2124.88 161.444 Q2127.89 161.444 2129.51 160.426 Q2131.13 159.384 2131.13 157.509 Q2131.13 155.773 2129.95 154.847 Q2128.79 153.921 2124.84 153.064 L2123.35 152.717 Q2119.4 151.884 2117.64 150.171 Q2115.88 148.435 2115.88 145.426 Q2115.88 141.768 2118.47 139.778 Q2121.06 137.787 2125.83 137.787 Q2128.19 137.787 2130.28 138.134 Q2132.36 138.481 2134.12 139.176 Z\" fill=\"#000000\" fill-rule=\"nonzero\" fill-opacity=\"1\" /><path clip-path=\"url(#clip390)\" d=\"M2163.84 148.689 L2163.84 164.338 L2159.58 164.338 L2159.58 148.828 Q2159.58 145.148 2158.15 143.319 Q2156.71 141.49 2153.84 141.49 Q2150.39 141.49 2148.4 143.69 Q2146.41 145.889 2146.41 149.685 L2146.41 164.338 L2142.13 164.338 L2142.13 138.412 L2146.41 138.412 L2146.41 142.44 Q2147.94 140.102 2150 138.944 Q2152.08 137.787 2154.79 137.787 Q2159.26 137.787 2161.55 140.565 Q2163.84 143.319 2163.84 148.689 Z\" fill=\"#000000\" fill-rule=\"nonzero\" fill-opacity=\"1\" /><path clip-path=\"url(#clip390)\" d=\"M2182.38 141.398 Q2178.96 141.398 2176.97 144.083 Q2174.97 146.745 2174.97 151.398 Q2174.97 156.051 2176.94 158.736 Q2178.93 161.398 2182.38 161.398 Q2185.78 161.398 2187.78 158.713 Q2189.77 156.027 2189.77 151.398 Q2189.77 146.791 2187.78 144.106 Q2185.78 141.398 2182.38 141.398 M2182.38 137.787 Q2187.94 137.787 2191.11 141.398 Q2194.28 145.009 2194.28 151.398 Q2194.28 157.764 2191.11 161.398 Q2187.94 165.009 2182.38 165.009 Q2176.8 165.009 2173.63 161.398 Q2170.48 157.764 2170.48 151.398 Q2170.48 145.009 2173.63 141.398 Q2176.8 137.787 2182.38 137.787 Z\" fill=\"#000000\" fill-rule=\"nonzero\" fill-opacity=\"1\" /><path clip-path=\"url(#clip390)\" d=\"M2216.36 142.393 Q2215.65 141.977 2214.79 141.791 Q2213.96 141.583 2212.94 141.583 Q2209.33 141.583 2207.38 143.944 Q2205.46 146.282 2205.46 150.68 L2205.46 164.338 L2201.18 164.338 L2201.18 138.412 L2205.46 138.412 L2205.46 142.44 Q2206.8 140.078 2208.96 138.944 Q2211.11 137.787 2214.19 137.787 Q2214.63 137.787 2215.16 137.856 Q2215.69 137.903 2216.34 138.018 L2216.36 142.393 Z\" fill=\"#000000\" fill-rule=\"nonzero\" fill-opacity=\"1\" /><path clip-path=\"url(#clip390)\" d=\"M2240.18 143.389 Q2241.78 140.518 2244 139.153 Q2246.22 137.787 2249.23 137.787 Q2253.28 137.787 2255.48 140.634 Q2257.68 143.458 2257.68 148.689 L2257.68 164.338 L2253.4 164.338 L2253.4 148.828 Q2253.4 145.102 2252.08 143.296 Q2250.76 141.49 2248.05 141.49 Q2244.74 141.49 2242.82 143.69 Q2240.9 145.889 2240.9 149.685 L2240.9 164.338 L2236.62 164.338 L2236.62 148.828 Q2236.62 145.078 2235.3 143.296 Q2233.98 141.49 2231.22 141.49 Q2227.96 141.49 2226.04 143.713 Q2224.12 145.912 2224.12 149.685 L2224.12 164.338 L2219.84 164.338 L2219.84 138.412 L2224.12 138.412 L2224.12 142.44 Q2225.58 140.055 2227.61 138.921 Q2229.65 137.787 2232.45 137.787 Q2235.28 137.787 2237.24 139.222 Q2239.23 140.657 2240.18 143.389 Z\" fill=\"#000000\" fill-rule=\"nonzero\" fill-opacity=\"1\" /></svg>\n"
      ],
      "text/html": [
       "<?xml version=\"1.0\" encoding=\"utf-8\"?>\n",
       "<svg xmlns=\"http://www.w3.org/2000/svg\" xmlns:xlink=\"http://www.w3.org/1999/xlink\" width=\"600\" height=\"400\" viewBox=\"0 0 2400 1600\">\n",
       "<defs>\n",
       "  <clipPath id=\"clip440\">\n",
       "    <rect x=\"0\" y=\"0\" width=\"2400\" height=\"1600\"/>\n",
       "  </clipPath>\n",
       "</defs>\n",
       "<path clip-path=\"url(#clip440)\" d=\"M0 1600 L2400 1600 L2400 0 L0 0  Z\" fill=\"#ffffff\" fill-rule=\"evenodd\" fill-opacity=\"1\"/>\n",
       "<defs>\n",
       "  <clipPath id=\"clip441\">\n",
       "    <rect x=\"480\" y=\"0\" width=\"1681\" height=\"1600\"/>\n",
       "  </clipPath>\n",
       "</defs>\n",
       "<path clip-path=\"url(#clip440)\" d=\"M213.607 1486.45 L2352.76 1486.45 L2352.76 47.2441 L213.607 47.2441  Z\" fill=\"#ffffff\" fill-rule=\"evenodd\" fill-opacity=\"1\"/>\n",
       "<defs>\n",
       "  <clipPath id=\"clip442\">\n",
       "    <rect x=\"213\" y=\"47\" width=\"2140\" height=\"1440\"/>\n",
       "  </clipPath>\n",
       "</defs>\n",
       "<polyline clip-path=\"url(#clip442)\" style=\"stroke:#000000; stroke-linecap:round; stroke-linejoin:round; stroke-width:2; stroke-opacity:0.1; fill:none\" points=\"274.149,1486.45 274.149,47.2441 \"/>\n",
       "<polyline clip-path=\"url(#clip442)\" style=\"stroke:#000000; stroke-linecap:round; stroke-linejoin:round; stroke-width:2; stroke-opacity:0.1; fill:none\" points=\"778.666,1486.45 778.666,47.2441 \"/>\n",
       "<polyline clip-path=\"url(#clip442)\" style=\"stroke:#000000; stroke-linecap:round; stroke-linejoin:round; stroke-width:2; stroke-opacity:0.1; fill:none\" points=\"1283.18,1486.45 1283.18,47.2441 \"/>\n",
       "<polyline clip-path=\"url(#clip442)\" style=\"stroke:#000000; stroke-linecap:round; stroke-linejoin:round; stroke-width:2; stroke-opacity:0.1; fill:none\" points=\"1787.7,1486.45 1787.7,47.2441 \"/>\n",
       "<polyline clip-path=\"url(#clip442)\" style=\"stroke:#000000; stroke-linecap:round; stroke-linejoin:round; stroke-width:2; stroke-opacity:0.1; fill:none\" points=\"2292.21,1486.45 2292.21,47.2441 \"/>\n",
       "<polyline clip-path=\"url(#clip440)\" style=\"stroke:#000000; stroke-linecap:round; stroke-linejoin:round; stroke-width:4; stroke-opacity:1; fill:none\" points=\"213.607,1486.45 2352.76,1486.45 \"/>\n",
       "<polyline clip-path=\"url(#clip440)\" style=\"stroke:#000000; stroke-linecap:round; stroke-linejoin:round; stroke-width:4; stroke-opacity:1; fill:none\" points=\"274.149,1486.45 274.149,1467.55 \"/>\n",
       "<polyline clip-path=\"url(#clip440)\" style=\"stroke:#000000; stroke-linecap:round; stroke-linejoin:round; stroke-width:4; stroke-opacity:1; fill:none\" points=\"778.666,1486.45 778.666,1467.55 \"/>\n",
       "<polyline clip-path=\"url(#clip440)\" style=\"stroke:#000000; stroke-linecap:round; stroke-linejoin:round; stroke-width:4; stroke-opacity:1; fill:none\" points=\"1283.18,1486.45 1283.18,1467.55 \"/>\n",
       "<polyline clip-path=\"url(#clip440)\" style=\"stroke:#000000; stroke-linecap:round; stroke-linejoin:round; stroke-width:4; stroke-opacity:1; fill:none\" points=\"1787.7,1486.45 1787.7,1467.55 \"/>\n",
       "<polyline clip-path=\"url(#clip440)\" style=\"stroke:#000000; stroke-linecap:round; stroke-linejoin:round; stroke-width:4; stroke-opacity:1; fill:none\" points=\"2292.21,1486.45 2292.21,1467.55 \"/>\n",
       "<path clip-path=\"url(#clip440)\" d=\"M241.302 1544.91 L248.941 1544.91 L248.941 1518.55 L240.631 1520.21 L240.631 1515.95 L248.895 1514.29 L253.571 1514.29 L253.571 1544.91 L261.21 1544.91 L261.21 1548.85 L241.302 1548.85 L241.302 1544.91 Z\" fill=\"#000000\" fill-rule=\"nonzero\" fill-opacity=\"1\" /><path clip-path=\"url(#clip440)\" d=\"M270.654 1542.97 L275.538 1542.97 L275.538 1548.85 L270.654 1548.85 L270.654 1542.97 Z\" fill=\"#000000\" fill-rule=\"nonzero\" fill-opacity=\"1\" /><path clip-path=\"url(#clip440)\" d=\"M295.723 1517.37 Q292.112 1517.37 290.284 1520.93 Q288.478 1524.47 288.478 1531.6 Q288.478 1538.71 290.284 1542.27 Q292.112 1545.82 295.723 1545.82 Q299.358 1545.82 301.163 1542.27 Q302.992 1538.71 302.992 1531.6 Q302.992 1524.47 301.163 1520.93 Q299.358 1517.37 295.723 1517.37 M295.723 1513.66 Q301.534 1513.66 304.589 1518.27 Q307.668 1522.85 307.668 1531.6 Q307.668 1540.33 304.589 1544.94 Q301.534 1549.52 295.723 1549.52 Q289.913 1549.52 286.835 1544.94 Q283.779 1540.33 283.779 1531.6 Q283.779 1522.85 286.835 1518.27 Q289.913 1513.66 295.723 1513.66 Z\" fill=\"#000000\" fill-rule=\"nonzero\" fill-opacity=\"1\" /><path clip-path=\"url(#clip440)\" d=\"M746.316 1544.91 L753.955 1544.91 L753.955 1518.55 L745.645 1520.21 L745.645 1515.95 L753.909 1514.29 L758.585 1514.29 L758.585 1544.91 L766.223 1544.91 L766.223 1548.85 L746.316 1548.85 L746.316 1544.91 Z\" fill=\"#000000\" fill-rule=\"nonzero\" fill-opacity=\"1\" /><path clip-path=\"url(#clip440)\" d=\"M775.668 1542.97 L780.552 1542.97 L780.552 1548.85 L775.668 1548.85 L775.668 1542.97 Z\" fill=\"#000000\" fill-rule=\"nonzero\" fill-opacity=\"1\" /><path clip-path=\"url(#clip440)\" d=\"M790.784 1514.29 L809.14 1514.29 L809.14 1518.22 L795.066 1518.22 L795.066 1526.7 Q796.084 1526.35 797.103 1526.19 Q798.121 1526 799.14 1526 Q804.927 1526 808.307 1529.17 Q811.686 1532.34 811.686 1537.76 Q811.686 1543.34 808.214 1546.44 Q804.742 1549.52 798.422 1549.52 Q796.246 1549.52 793.978 1549.15 Q791.733 1548.78 789.325 1548.04 L789.325 1543.34 Q791.409 1544.47 793.631 1545.03 Q795.853 1545.58 798.33 1545.58 Q802.334 1545.58 804.672 1543.48 Q807.01 1541.37 807.01 1537.76 Q807.01 1534.15 804.672 1532.04 Q802.334 1529.94 798.33 1529.94 Q796.455 1529.94 794.58 1530.35 Q792.728 1530.77 790.784 1531.65 L790.784 1514.29 Z\" fill=\"#000000\" fill-rule=\"nonzero\" fill-opacity=\"1\" /><path clip-path=\"url(#clip440)\" d=\"M1254.42 1544.91 L1270.74 1544.91 L1270.74 1548.85 L1248.8 1548.85 L1248.8 1544.91 Q1251.46 1542.16 1256.04 1537.53 Q1260.65 1532.88 1261.83 1531.53 Q1264.07 1529.01 1264.95 1527.27 Q1265.86 1525.51 1265.86 1523.82 Q1265.86 1521.07 1263.91 1519.33 Q1261.99 1517.6 1258.89 1517.6 Q1256.69 1517.6 1254.24 1518.36 Q1251.8 1519.13 1249.03 1520.68 L1249.03 1515.95 Q1251.85 1514.82 1254.3 1514.24 Q1256.76 1513.66 1258.8 1513.66 Q1264.17 1513.66 1267.36 1516.35 Q1270.55 1519.03 1270.55 1523.52 Q1270.55 1525.65 1269.74 1527.57 Q1268.96 1529.47 1266.85 1532.07 Q1266.27 1532.74 1263.17 1535.95 Q1260.07 1539.15 1254.42 1544.91 Z\" fill=\"#000000\" fill-rule=\"nonzero\" fill-opacity=\"1\" /><path clip-path=\"url(#clip440)\" d=\"M1280.55 1542.97 L1285.44 1542.97 L1285.44 1548.85 L1280.55 1548.85 L1280.55 1542.97 Z\" fill=\"#000000\" fill-rule=\"nonzero\" fill-opacity=\"1\" /><path clip-path=\"url(#clip440)\" d=\"M1305.62 1517.37 Q1302.01 1517.37 1300.18 1520.93 Q1298.38 1524.47 1298.38 1531.6 Q1298.38 1538.71 1300.18 1542.27 Q1302.01 1545.82 1305.62 1545.82 Q1309.26 1545.82 1311.06 1542.27 Q1312.89 1538.71 1312.89 1531.6 Q1312.89 1524.47 1311.06 1520.93 Q1309.26 1517.37 1305.62 1517.37 M1305.62 1513.66 Q1311.43 1513.66 1314.49 1518.27 Q1317.57 1522.85 1317.57 1531.6 Q1317.57 1540.33 1314.49 1544.94 Q1311.43 1549.52 1305.62 1549.52 Q1299.81 1549.52 1296.73 1544.94 Q1293.68 1540.33 1293.68 1531.6 Q1293.68 1522.85 1296.73 1518.27 Q1299.81 1513.66 1305.62 1513.66 Z\" fill=\"#000000\" fill-rule=\"nonzero\" fill-opacity=\"1\" /><path clip-path=\"url(#clip440)\" d=\"M1759.43 1544.91 L1775.75 1544.91 L1775.75 1548.85 L1753.81 1548.85 L1753.81 1544.91 Q1756.47 1542.16 1761.05 1537.53 Q1765.66 1532.88 1766.84 1531.53 Q1769.09 1529.01 1769.97 1527.27 Q1770.87 1525.51 1770.87 1523.82 Q1770.87 1521.07 1768.92 1519.33 Q1767 1517.6 1763.9 1517.6 Q1761.7 1517.6 1759.25 1518.36 Q1756.82 1519.13 1754.04 1520.68 L1754.04 1515.95 Q1756.86 1514.82 1759.32 1514.24 Q1761.77 1513.66 1763.81 1513.66 Q1769.18 1513.66 1772.37 1516.35 Q1775.57 1519.03 1775.57 1523.52 Q1775.57 1525.65 1774.76 1527.57 Q1773.97 1529.47 1771.86 1532.07 Q1771.29 1532.74 1768.18 1535.95 Q1765.08 1539.15 1759.43 1544.91 Z\" fill=\"#000000\" fill-rule=\"nonzero\" fill-opacity=\"1\" /><path clip-path=\"url(#clip440)\" d=\"M1785.57 1542.97 L1790.45 1542.97 L1790.45 1548.85 L1785.57 1548.85 L1785.57 1542.97 Z\" fill=\"#000000\" fill-rule=\"nonzero\" fill-opacity=\"1\" /><path clip-path=\"url(#clip440)\" d=\"M1800.68 1514.29 L1819.04 1514.29 L1819.04 1518.22 L1804.97 1518.22 L1804.97 1526.7 Q1805.98 1526.35 1807 1526.19 Q1808.02 1526 1809.04 1526 Q1814.83 1526 1818.21 1529.17 Q1821.59 1532.34 1821.59 1537.76 Q1821.59 1543.34 1818.11 1546.44 Q1814.64 1549.52 1808.32 1549.52 Q1806.15 1549.52 1803.88 1549.15 Q1801.63 1548.78 1799.23 1548.04 L1799.23 1543.34 Q1801.31 1544.47 1803.53 1545.03 Q1805.75 1545.58 1808.23 1545.58 Q1812.23 1545.58 1814.57 1543.48 Q1816.91 1541.37 1816.91 1537.76 Q1816.91 1534.15 1814.57 1532.04 Q1812.23 1529.94 1808.23 1529.94 Q1806.36 1529.94 1804.48 1530.35 Q1802.63 1530.77 1800.68 1531.65 L1800.68 1514.29 Z\" fill=\"#000000\" fill-rule=\"nonzero\" fill-opacity=\"1\" /><path clip-path=\"url(#clip440)\" d=\"M2273.52 1530.21 Q2276.88 1530.93 2278.75 1533.2 Q2280.65 1535.47 2280.65 1538.8 Q2280.65 1543.92 2277.13 1546.72 Q2273.61 1549.52 2267.13 1549.52 Q2264.96 1549.52 2262.64 1549.08 Q2260.35 1548.66 2257.9 1547.81 L2257.9 1543.29 Q2259.84 1544.43 2262.16 1545.01 Q2264.47 1545.58 2266.99 1545.58 Q2271.39 1545.58 2273.68 1543.85 Q2276 1542.11 2276 1538.8 Q2276 1535.75 2273.85 1534.03 Q2271.72 1532.3 2267.9 1532.3 L2263.87 1532.3 L2263.87 1528.45 L2268.08 1528.45 Q2271.53 1528.45 2273.36 1527.09 Q2275.19 1525.7 2275.19 1523.11 Q2275.19 1520.45 2273.29 1519.03 Q2271.42 1517.6 2267.9 1517.6 Q2265.98 1517.6 2263.78 1518.01 Q2261.58 1518.43 2258.94 1519.31 L2258.94 1515.14 Q2261.6 1514.4 2263.92 1514.03 Q2266.25 1513.66 2268.31 1513.66 Q2273.64 1513.66 2276.74 1516.09 Q2279.84 1518.5 2279.84 1522.62 Q2279.84 1525.49 2278.2 1527.48 Q2276.55 1529.45 2273.52 1530.21 Z\" fill=\"#000000\" fill-rule=\"nonzero\" fill-opacity=\"1\" /><path clip-path=\"url(#clip440)\" d=\"M2289.52 1542.97 L2294.4 1542.97 L2294.4 1548.85 L2289.52 1548.85 L2289.52 1542.97 Z\" fill=\"#000000\" fill-rule=\"nonzero\" fill-opacity=\"1\" /><path clip-path=\"url(#clip440)\" d=\"M2314.59 1517.37 Q2310.98 1517.37 2309.15 1520.93 Q2307.34 1524.47 2307.34 1531.6 Q2307.34 1538.71 2309.15 1542.27 Q2310.98 1545.82 2314.59 1545.82 Q2318.22 1545.82 2320.03 1542.27 Q2321.86 1538.71 2321.86 1531.6 Q2321.86 1524.47 2320.03 1520.93 Q2318.22 1517.37 2314.59 1517.37 M2314.59 1513.66 Q2320.4 1513.66 2323.45 1518.27 Q2326.53 1522.85 2326.53 1531.6 Q2326.53 1540.33 2323.45 1544.94 Q2320.4 1549.52 2314.59 1549.52 Q2308.78 1549.52 2305.7 1544.94 Q2302.64 1540.33 2302.64 1531.6 Q2302.64 1522.85 2305.7 1518.27 Q2308.78 1513.66 2314.59 1513.66 Z\" fill=\"#000000\" fill-rule=\"nonzero\" fill-opacity=\"1\" /><polyline clip-path=\"url(#clip442)\" style=\"stroke:#000000; stroke-linecap:round; stroke-linejoin:round; stroke-width:2; stroke-opacity:0.1; fill:none\" points=\"213.607,915.218 2352.76,915.218 \"/>\n",
       "<polyline clip-path=\"url(#clip442)\" style=\"stroke:#000000; stroke-linecap:round; stroke-linejoin:round; stroke-width:2; stroke-opacity:0.1; fill:none\" points=\"213.607,49.3724 2352.76,49.3724 \"/>\n",
       "<polyline clip-path=\"url(#clip440)\" style=\"stroke:#000000; stroke-linecap:round; stroke-linejoin:round; stroke-width:4; stroke-opacity:1; fill:none\" points=\"213.607,1486.45 213.607,47.2441 \"/>\n",
       "<polyline clip-path=\"url(#clip440)\" style=\"stroke:#000000; stroke-linecap:round; stroke-linejoin:round; stroke-width:4; stroke-opacity:1; fill:none\" points=\"213.607,915.218 232.505,915.218 \"/>\n",
       "<polyline clip-path=\"url(#clip440)\" style=\"stroke:#000000; stroke-linecap:round; stroke-linejoin:round; stroke-width:4; stroke-opacity:1; fill:none\" points=\"213.607,49.3724 232.505,49.3724 \"/>\n",
       "<path clip-path=\"url(#clip440)\" d=\"M51.6634 935.011 L59.3023 935.011 L59.3023 908.645 L50.9921 910.312 L50.9921 906.053 L59.256 904.386 L63.9319 904.386 L63.9319 935.011 L71.5707 935.011 L71.5707 938.946 L51.6634 938.946 L51.6634 935.011 Z\" fill=\"#000000\" fill-rule=\"nonzero\" fill-opacity=\"1\" /><path clip-path=\"url(#clip440)\" d=\"M91.0151 907.465 Q87.404 907.465 85.5753 911.029 Q83.7697 914.571 83.7697 921.701 Q83.7697 928.807 85.5753 932.372 Q87.404 935.914 91.0151 935.914 Q94.6493 935.914 96.4548 932.372 Q98.2835 928.807 98.2835 921.701 Q98.2835 914.571 96.4548 911.029 Q94.6493 907.465 91.0151 907.465 M91.0151 903.761 Q96.8252 903.761 99.8808 908.367 Q102.959 912.951 102.959 921.701 Q102.959 930.428 99.8808 935.034 Q96.8252 939.617 91.0151 939.617 Q85.2049 939.617 82.1262 935.034 Q79.0707 930.428 79.0707 921.701 Q79.0707 912.951 82.1262 908.367 Q85.2049 903.761 91.0151 903.761 Z\" fill=\"#000000\" fill-rule=\"nonzero\" fill-opacity=\"1\" /><path clip-path=\"url(#clip440)\" d=\"M102.959 897.862 L127.071 897.862 L127.071 901.06 L102.959 901.06 L102.959 897.862 Z\" fill=\"#000000\" fill-rule=\"nonzero\" fill-opacity=\"1\" /><path clip-path=\"url(#clip440)\" d=\"M135.929 908.338 L142.136 908.338 L142.136 886.916 L135.384 888.27 L135.384 884.81 L142.098 883.456 L145.898 883.456 L145.898 908.338 L152.104 908.338 L152.104 911.536 L135.929 911.536 L135.929 908.338 Z\" fill=\"#000000\" fill-rule=\"nonzero\" fill-opacity=\"1\" /><path clip-path=\"url(#clip440)\" d=\"M167.903 885.957 Q164.969 885.957 163.483 888.853 Q162.016 891.731 162.016 897.524 Q162.016 903.298 163.483 906.194 Q164.969 909.072 167.903 909.072 Q170.855 909.072 172.322 906.194 Q173.808 903.298 173.808 897.524 Q173.808 891.731 172.322 888.853 Q170.855 885.957 167.903 885.957 M167.903 882.948 Q172.623 882.948 175.106 886.691 Q177.607 890.414 177.607 897.524 Q177.607 904.614 175.106 908.357 Q172.623 912.081 167.903 912.081 Q163.182 912.081 160.68 908.357 Q158.198 904.614 158.198 897.524 Q158.198 890.414 160.68 886.691 Q163.182 882.948 167.903 882.948 Z\" fill=\"#000000\" fill-rule=\"nonzero\" fill-opacity=\"1\" /><path clip-path=\"url(#clip440)\" d=\"M106.902 69.1648 L114.541 69.1648 L114.541 42.7992 L106.231 44.4659 L106.231 40.2066 L114.494 38.54 L119.17 38.54 L119.17 69.1648 L126.809 69.1648 L126.809 73.1 L106.902 73.1 L106.902 69.1648 Z\" fill=\"#000000\" fill-rule=\"nonzero\" fill-opacity=\"1\" /><path clip-path=\"url(#clip440)\" d=\"M146.253 41.6186 Q142.642 41.6186 140.814 45.1834 Q139.008 48.7251 139.008 55.8547 Q139.008 62.9611 140.814 66.5259 Q142.642 70.0676 146.253 70.0676 Q149.888 70.0676 151.693 66.5259 Q153.522 62.9611 153.522 55.8547 Q153.522 48.7251 151.693 45.1834 Q149.888 41.6186 146.253 41.6186 M146.253 37.915 Q152.064 37.915 155.119 42.5214 Q158.198 47.1047 158.198 55.8547 Q158.198 64.5815 155.119 69.1879 Q152.064 73.7713 146.253 73.7713 Q140.443 73.7713 137.365 69.1879 Q134.309 64.5815 134.309 55.8547 Q134.309 47.1047 137.365 42.5214 Q140.443 37.915 146.253 37.915 Z\" fill=\"#000000\" fill-rule=\"nonzero\" fill-opacity=\"1\" /><path clip-path=\"url(#clip440)\" d=\"M167.903 20.111 Q164.969 20.111 163.483 23.0074 Q162.016 25.885 162.016 31.6778 Q162.016 37.4518 163.483 40.3482 Q164.969 43.2257 167.903 43.2257 Q170.855 43.2257 172.322 40.3482 Q173.808 37.4518 173.808 31.6778 Q173.808 25.885 172.322 23.0074 Q170.855 20.111 167.903 20.111 M167.903 17.1018 Q172.623 17.1018 175.106 20.8445 Q177.607 24.5684 177.607 31.6778 Q177.607 38.7683 175.106 42.511 Q172.623 46.235 167.903 46.235 Q163.182 46.235 160.68 42.511 Q158.198 38.7683 158.198 31.6778 Q158.198 24.5684 160.68 20.8445 Q163.182 17.1018 167.903 17.1018 Z\" fill=\"#000000\" fill-rule=\"nonzero\" fill-opacity=\"1\" /><polyline clip-path=\"url(#clip442)\" style=\"stroke:#009af9; stroke-linecap:round; stroke-linejoin:round; stroke-width:4; stroke-opacity:1; fill:none\" points=\"274.149,87.9763 1283.18,122.337 2292.21,1445.72 \"/>\n",
       "<path clip-path=\"url(#clip440)\" d=\"M1879.67 198.898 L2281.45 198.898 L2281.45 95.2176 L1879.67 95.2176  Z\" fill=\"#ffffff\" fill-rule=\"evenodd\" fill-opacity=\"1\"/>\n",
       "<polyline clip-path=\"url(#clip440)\" style=\"stroke:#000000; stroke-linecap:round; stroke-linejoin:round; stroke-width:4; stroke-opacity:1; fill:none\" points=\"1879.67,198.898 2281.45,198.898 2281.45,95.2176 1879.67,95.2176 1879.67,198.898 \"/>\n",
       "<polyline clip-path=\"url(#clip440)\" style=\"stroke:#009af9; stroke-linecap:round; stroke-linejoin:round; stroke-width:4; stroke-opacity:1; fill:none\" points=\"1903.44,147.058 2046.04,147.058 \"/>\n",
       "<path clip-path=\"url(#clip440)\" d=\"M2085 142.393 Q2084.28 141.977 2083.42 141.791 Q2082.59 141.583 2081.57 141.583 Q2077.96 141.583 2076.02 143.944 Q2074.1 146.282 2074.1 150.68 L2074.1 164.338 L2069.81 164.338 L2069.81 138.412 L2074.1 138.412 L2074.1 142.44 Q2075.44 140.078 2077.59 138.944 Q2079.74 137.787 2082.82 137.787 Q2083.26 137.787 2083.79 137.856 Q2084.33 137.903 2084.98 138.018 L2085 142.393 Z\" fill=\"#000000\" fill-rule=\"nonzero\" fill-opacity=\"1\" /><path clip-path=\"url(#clip440)\" d=\"M2110.6 150.31 L2110.6 152.393 L2091.02 152.393 Q2091.29 156.791 2093.66 159.106 Q2096.04 161.398 2100.28 161.398 Q2102.73 161.398 2105.02 160.796 Q2107.34 160.194 2109.6 158.99 L2109.6 163.018 Q2107.31 163.99 2104.91 164.5 Q2102.5 165.009 2100.02 165.009 Q2093.82 165.009 2090.18 161.398 Q2086.57 157.787 2086.57 151.629 Q2086.57 145.264 2090 141.537 Q2093.45 137.787 2099.28 137.787 Q2104.51 137.787 2107.54 141.166 Q2110.6 144.523 2110.6 150.31 M2106.34 149.06 Q2106.29 145.565 2104.37 143.481 Q2102.48 141.398 2099.33 141.398 Q2095.76 141.398 2093.61 143.412 Q2091.48 145.426 2091.16 149.083 L2106.34 149.06 Z\" fill=\"#000000\" fill-rule=\"nonzero\" fill-opacity=\"1\" /><path clip-path=\"url(#clip440)\" d=\"M2134.12 139.176 L2134.12 143.203 Q2132.31 142.277 2130.37 141.815 Q2128.42 141.352 2126.34 141.352 Q2123.17 141.352 2121.57 142.324 Q2120 143.296 2120 145.24 Q2120 146.722 2121.13 147.578 Q2122.27 148.412 2125.69 149.176 L2127.15 149.5 Q2131.69 150.472 2133.59 152.254 Q2135.51 154.014 2135.51 157.185 Q2135.51 160.796 2132.64 162.902 Q2129.79 165.009 2124.79 165.009 Q2122.71 165.009 2120.44 164.592 Q2118.19 164.199 2115.69 163.388 L2115.69 158.99 Q2118.05 160.217 2120.35 160.842 Q2122.64 161.444 2124.88 161.444 Q2127.89 161.444 2129.51 160.426 Q2131.13 159.384 2131.13 157.509 Q2131.13 155.773 2129.95 154.847 Q2128.79 153.921 2124.84 153.064 L2123.35 152.717 Q2119.4 151.884 2117.64 150.171 Q2115.88 148.435 2115.88 145.426 Q2115.88 141.768 2118.47 139.778 Q2121.06 137.787 2125.83 137.787 Q2128.19 137.787 2130.28 138.134 Q2132.36 138.481 2134.12 139.176 Z\" fill=\"#000000\" fill-rule=\"nonzero\" fill-opacity=\"1\" /><path clip-path=\"url(#clip440)\" d=\"M2163.84 148.689 L2163.84 164.338 L2159.58 164.338 L2159.58 148.828 Q2159.58 145.148 2158.15 143.319 Q2156.71 141.49 2153.84 141.49 Q2150.39 141.49 2148.4 143.69 Q2146.41 145.889 2146.41 149.685 L2146.41 164.338 L2142.13 164.338 L2142.13 138.412 L2146.41 138.412 L2146.41 142.44 Q2147.94 140.102 2150 138.944 Q2152.08 137.787 2154.79 137.787 Q2159.26 137.787 2161.55 140.565 Q2163.84 143.319 2163.84 148.689 Z\" fill=\"#000000\" fill-rule=\"nonzero\" fill-opacity=\"1\" /><path clip-path=\"url(#clip440)\" d=\"M2182.38 141.398 Q2178.96 141.398 2176.97 144.083 Q2174.97 146.745 2174.97 151.398 Q2174.97 156.051 2176.94 158.736 Q2178.93 161.398 2182.38 161.398 Q2185.78 161.398 2187.78 158.713 Q2189.77 156.027 2189.77 151.398 Q2189.77 146.791 2187.78 144.106 Q2185.78 141.398 2182.38 141.398 M2182.38 137.787 Q2187.94 137.787 2191.11 141.398 Q2194.28 145.009 2194.28 151.398 Q2194.28 157.764 2191.11 161.398 Q2187.94 165.009 2182.38 165.009 Q2176.8 165.009 2173.63 161.398 Q2170.48 157.764 2170.48 151.398 Q2170.48 145.009 2173.63 141.398 Q2176.8 137.787 2182.38 137.787 Z\" fill=\"#000000\" fill-rule=\"nonzero\" fill-opacity=\"1\" /><path clip-path=\"url(#clip440)\" d=\"M2216.36 142.393 Q2215.65 141.977 2214.79 141.791 Q2213.96 141.583 2212.94 141.583 Q2209.33 141.583 2207.38 143.944 Q2205.46 146.282 2205.46 150.68 L2205.46 164.338 L2201.18 164.338 L2201.18 138.412 L2205.46 138.412 L2205.46 142.44 Q2206.8 140.078 2208.96 138.944 Q2211.11 137.787 2214.19 137.787 Q2214.63 137.787 2215.16 137.856 Q2215.69 137.903 2216.34 138.018 L2216.36 142.393 Z\" fill=\"#000000\" fill-rule=\"nonzero\" fill-opacity=\"1\" /><path clip-path=\"url(#clip440)\" d=\"M2240.18 143.389 Q2241.78 140.518 2244 139.153 Q2246.22 137.787 2249.23 137.787 Q2253.28 137.787 2255.48 140.634 Q2257.68 143.458 2257.68 148.689 L2257.68 164.338 L2253.4 164.338 L2253.4 148.828 Q2253.4 145.102 2252.08 143.296 Q2250.76 141.49 2248.05 141.49 Q2244.74 141.49 2242.82 143.69 Q2240.9 145.889 2240.9 149.685 L2240.9 164.338 L2236.62 164.338 L2236.62 148.828 Q2236.62 145.078 2235.3 143.296 Q2233.98 141.49 2231.22 141.49 Q2227.96 141.49 2226.04 143.713 Q2224.12 145.912 2224.12 149.685 L2224.12 164.338 L2219.84 164.338 L2219.84 138.412 L2224.12 138.412 L2224.12 142.44 Q2225.58 140.055 2227.61 138.921 Q2229.65 137.787 2232.45 137.787 Q2235.28 137.787 2237.24 139.222 Q2239.23 140.657 2240.18 143.389 Z\" fill=\"#000000\" fill-rule=\"nonzero\" fill-opacity=\"1\" /></svg>\n"
      ]
     },
     "execution_count": 5,
     "metadata": {},
     "output_type": "execute_result"
    }
   ],
   "source": [
    "using Plots\n",
    "plot(ch, yaxis=:log)  # y軸はlog-scale"
   ]
  },
  {
   "cell_type": "markdown",
   "id": "33bc5494-9959-4f0f-abae-3a70fc93b6ff",
   "metadata": {},
   "source": [
    "## ノート\n",
    "公式ドキュメントを見てもログ変数のどこに収束履歴が格納されているかわからないので，変数の中身をダンプして確認する．"
   ]
  },
  {
   "cell_type": "code",
   "execution_count": 6,
   "id": "f1121153-21a2-416f-ac7a-c8e9bef844ad",
   "metadata": {},
   "outputs": [
    {
     "name": "stdout",
     "output_type": "stream",
     "text": [
      "ConvergenceHistory{true, Nothing}\n",
      "  mvps: Int64 3\n",
      "  mtvps: Int64 0\n",
      "  iters: Int64 3\n",
      "  restart: Nothing nothing\n",
      "  isconverged: Bool true\n",
      "  data: Dict{Symbol, Any}\n",
      "    slots: Array{UInt8}((16,)) UInt8[0x00, 0x00, 0x00, 0x00, 0x00, 0xfc, 0x00, 0x00, 0xed, 0x00, 0x00, 0x00, 0x00, 0x00, 0xdf, 0x00]\n",
      "    keys: Array{Symbol}((16,))\n",
      "      1: #undef\n",
      "      2: #undef\n",
      "      3: #undef\n",
      "      4: #undef\n",
      "      5: #undef\n",
      "      ...\n",
      "      12: #undef\n",
      "      13: #undef\n",
      "      14: #undef\n",
      "      15: Symbol resnorm\n",
      "      16: #undef\n",
      "    vals: Array{Any}((16,))\n",
      "      1: #undef\n",
      "      2: #undef\n",
      "      3: #undef\n",
      "      4: #undef\n",
      "      5: #undef\n",
      "      ...\n",
      "      12: #undef\n",
      "      13: #undef\n",
      "      14: #undef\n",
      "      15: Array{Float64}((3,)) [0.35821852403177135, 0.1436474611738647, 7.465789177005377e-17]\n",
      "      16: #undef\n",
      "    ndel: Int64 0\n",
      "    count: Int64 3\n",
      "    age: UInt64 0x0000000000000003\n",
      "    idxfloor: Int64 6\n",
      "    maxprobe: Int64 0\n"
     ]
    }
   ],
   "source": [
    "dump(ch)"
   ]
  },
  {
   "cell_type": "markdown",
   "id": "6e79779d-a574-4297-915c-b5bd68783ea5",
   "metadata": {},
   "source": [
    "--- \n",
    "\n",
    "`iters`は収束するまでの要した反復回数であることは間違いないだろう．\n",
    "`data` の出力が長いので，収束履歴が格納されている可能性が高い．"
   ]
  },
  {
   "cell_type": "code",
   "execution_count": 7,
   "id": "6b9ed8d6-ad2d-48ca-8d1d-d6c2de14efda",
   "metadata": {},
   "outputs": [
    {
     "data": {
      "text/plain": [
       "Dict{Symbol, Any} with 3 entries:\n",
       "  :reltol  => 1.49012e-8\n",
       "  :abstol  => 0.0\n",
       "  :resnorm => [0.358219, 0.143647, 7.46579e-17]"
      ]
     },
     "execution_count": 7,
     "metadata": {},
     "output_type": "execute_result"
    }
   ],
   "source": [
    "ch.data"
   ]
  },
  {
   "cell_type": "code",
   "execution_count": 8,
   "id": "66e2b0cf-f42f-450a-8cd9-c5069172cecb",
   "metadata": {},
   "outputs": [
    {
     "data": {
      "text/plain": [
       "3-element Vector{Float64}:\n",
       " 0.35821852403177135\n",
       " 0.1436474611738647\n",
       " 7.465789177005377e-17"
      ]
     },
     "execution_count": 8,
     "metadata": {},
     "output_type": "execute_result"
    }
   ],
   "source": [
    "ch.data[:resnorm]"
   ]
  },
  {
   "cell_type": "markdown",
   "id": "18e7c19b-8378-4e65-baf0-c5ffbfccfe4d",
   "metadata": {},
   "source": [
    "これが残差の履歴と思われる．"
   ]
  },
  {
   "cell_type": "code",
   "execution_count": null,
   "id": "1053b93f-7c13-4ad8-b5cf-5521af345ea8",
   "metadata": {},
   "outputs": [],
   "source": []
  }
 ],
 "metadata": {
  "kernelspec": {
   "display_name": "Julia 1.9.0-rc1",
   "language": "julia",
   "name": "julia-1.9"
  },
  "language_info": {
   "file_extension": ".jl",
   "mimetype": "application/julia",
   "name": "julia",
   "version": "1.9.0"
  }
 },
 "nbformat": 4,
 "nbformat_minor": 5
}
