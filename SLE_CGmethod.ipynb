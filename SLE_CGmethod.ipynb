{
 "cells": [
  {
   "cell_type": "markdown",
   "id": "00ba560a-ed92-47ae-b24a-3851c9e1b8b8",
   "metadata": {},
   "source": [
    "# CG法\n",
    "\n",
    "## CG code from scratch\n",
    "次の連立１次方程式（[齊藤共立，例3.21]と同じ問題）を例に，\n",
    "CG法の近似解をJuliaで計算してみよう．\n",
    "\n",
    "$$\n",
    " \\begin{pmatrix}\n",
    "\t3 & -1 & 2 \\\\ -1 & 4 & 1 \\\\ 2 & 1 & 3\n",
    " \\end{pmatrix}\t\n",
    " \\begin{pmatrix} x_1 \\\\ x_2 \\\\ x_3 \\end{pmatrix}\n",
    " =\n",
    " \\begin{pmatrix} 4 \\\\ 4 \\\\ 6 \\end{pmatrix}\n",
    "$$\n",
    "\n",
    "厳密解は$x_1 = x_2 = x_3 = 1$である．$A$は正定値対称行列なのでCG法は収束する．\n"
   ]
  },
  {
   "cell_type": "code",
   "execution_count": 12,
   "id": "861542a1-5779-469f-81ba-6696e45a0bde",
   "metadata": {},
   "outputs": [
    {
     "name": "stdout",
     "output_type": "stream",
     "text": [
      "(i, Float32.(x)) = (1, Float32[0.8192771, 0.8192771, 1.2289157])\n",
      "(i, Float32.(x)) = (2, Float32[0.7968128, 0.90039843, 1.1952192])\n",
      "(i, Float32.(x)) = (3, Float32[1.0, 1.0, 1.0])\n",
      "x = [1.000000000000001, 1.0000000000000009, 0.9999999999999999]\n"
     ]
    },
    {
     "data": {
      "text/plain": [
       "3-element Vector{Float64}:\n",
       " 1.000000000000001\n",
       " 1.0000000000000009\n",
       " 0.9999999999999999"
      ]
     },
     "execution_count": 12,
     "metadata": {},
     "output_type": "execute_result"
    }
   ],
   "source": [
    "using LinearAlgebra\n",
    "A = Float64[3 -1 2; -1 4 1; 2 1 3]\n",
    "b = Float64[4, 4, 6]\n",
    "x = [0, 0, 0]\n",
    "r = b - A*x\n",
    "p = r\n",
    "tol = 1e-6   # 停止条件のtolerance\n",
    "\n",
    "# 固有値の確認\n",
    "# eigvals(A)\n",
    "\n",
    "# CG法による反復計算\n",
    "for i in 1:20\n",
    "    alpha = r'*p/(p'*A*p)\n",
    "    xx = x + alpha*p\n",
    "    # 停止条件\n",
    "    (norm(xx - x) < tol) && break\n",
    "    x = xx\n",
    "    @show i, Float32.(x)   # 途中経過の表示\n",
    "    r = r - alpha*A*p\n",
    "    beta = r'*A*p/(p'*A*p)\n",
    "    p = r - beta*p\n",
    "end\n",
    "@show x   # 数値解の表示"
   ]
  },
  {
   "cell_type": "markdown",
   "id": "876c0ff9-ff65-46d0-9aa9-4e2af94aac2a",
   "metadata": {},
   "source": [
    "この場合は3回の反復で厳密解が得られている．\n",
    "\n",
    "最大反復回数と停止条件のtoleranceは問題に応じて適切な数値に適宜変更されたい．\n",
    "なお，途中経過を表示するコードのところで`Float.32(x)`と単精度型に変換しているのは\n",
    "表示桁数を減らすためである．"
   ]
  },
  {
   "cell_type": "markdown",
   "id": "af08eb2d-9580-49ee-97db-d08aeed0dea7",
   "metadata": {},
   "source": [
    "## IterativeSolvers.jl \n",
    "詳細は[Manual](https://iterativesolvers.julialinearalgebra.org/dev/)を参照．"
   ]
  },
  {
   "cell_type": "code",
   "execution_count": 5,
   "id": "2d20e417-6ccf-456a-9677-13be9c22fdab",
   "metadata": {},
   "outputs": [],
   "source": [
    "# パッケージの追加\n",
    "#]add IterativeSolvers "
   ]
  },
  {
   "cell_type": "code",
   "execution_count": 13,
   "id": "3b370c48-91f7-4b60-af1c-181a4249a944",
   "metadata": {},
   "outputs": [
    {
     "data": {
      "text/plain": [
       "3-element Vector{Float64}:\n",
       " 1.0000000000000007\n",
       " 1.0000000000000004\n",
       " 0.9999999999999991"
      ]
     },
     "execution_count": 13,
     "metadata": {},
     "output_type": "execute_result"
    }
   ],
   "source": [
    "using IterativeSolvers\n",
    "x = cg(A,b)"
   ]
  },
  {
   "cell_type": "code",
   "execution_count": 16,
   "id": "ad6fda10-f466-48e5-89bd-aecc7b307958",
   "metadata": {},
   "outputs": [
    {
     "data": {
      "text/plain": [
       "([1.0000000000000007, 1.0000000000000004, 0.9999999999999991], Converged after 3 iterations.)"
      ]
     },
     "execution_count": 16,
     "metadata": {},
     "output_type": "execute_result"
    }
   ],
   "source": [
    "# 収束履歴（convergence history) を取得する場合\n",
    "x,ch = cg(A,b,log=true)"
   ]
  },
  {
   "cell_type": "code",
   "execution_count": 18,
   "id": "f1121153-21a2-416f-ac7a-c8e9bef844ad",
   "metadata": {},
   "outputs": [
    {
     "name": "stdout",
     "output_type": "stream",
     "text": [
      "ConvergenceHistory{true, Nothing}\n",
      "  mvps: Int64 3\n",
      "  mtvps: Int64 0\n",
      "  iters: Int64 3\n",
      "  restart: Nothing nothing\n",
      "  isconverged: Bool true\n",
      "  data: Dict{Symbol, Any}\n",
      "    slots: Array{UInt8}((16,)) UInt8[0x00, 0x00, 0x00, 0x00, 0x00, 0xfc, 0x00, 0x00, 0xed, 0x00, 0x00, 0x00, 0x00, 0x00, 0xdf, 0x00]\n",
      "    keys: Array{Symbol}((16,))\n",
      "      1: #undef\n",
      "      2: #undef\n",
      "      3: #undef\n",
      "      4: #undef\n",
      "      5: #undef\n",
      "      ...\n",
      "      12: #undef\n",
      "      13: #undef\n",
      "      14: #undef\n",
      "      15: Symbol resnorm\n",
      "      16: #undef\n",
      "    vals: Array{Any}((16,))\n",
      "      1: #undef\n",
      "      2: #undef\n",
      "      3: #undef\n",
      "      4: #undef\n",
      "      5: #undef\n",
      "      ...\n",
      "      12: #undef\n",
      "      13: #undef\n",
      "      14: #undef\n",
      "      15: Array{Float64}((3,)) [0.35821852403177135, 0.1436474611738647, 7.465789177005377e-17]\n",
      "      16: #undef\n",
      "    ndel: Int64 0\n",
      "    count: Int64 3\n",
      "    age: UInt64 0x0000000000000003\n",
      "    idxfloor: Int64 6\n",
      "    maxprobe: Int64 0\n"
     ]
    }
   ],
   "source": [
    "dump(ch)"
   ]
  },
  {
   "cell_type": "code",
   "execution_count": null,
   "id": "66e2b0cf-f42f-450a-8cd9-c5069172cecb",
   "metadata": {},
   "outputs": [],
   "source": []
  }
 ],
 "metadata": {
  "kernelspec": {
   "display_name": "Julia 1.9.0-rc1",
   "language": "julia",
   "name": "julia-1.9"
  },
  "language_info": {
   "file_extension": ".jl",
   "mimetype": "application/julia",
   "name": "julia",
   "version": "1.9.0"
  }
 },
 "nbformat": 4,
 "nbformat_minor": 5
}
