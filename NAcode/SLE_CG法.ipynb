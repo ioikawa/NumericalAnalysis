{
 "cells": [
  {
   "cell_type": "markdown",
   "id": "00ba560a-ed92-47ae-b24a-3851c9e1b8b8",
   "metadata": {},
   "source": [
    "# Juliaによる実装例\n",
    "次の連立１次方程式（[齊藤共立，例3.21]と同じ問題）を例に，\n",
    "CG法の近似解をJuliaで計算してみよう．\n",
    "\n",
    "$$\n",
    " \\begin{pmatrix}\n",
    "\t3 & -1 & 2 \\\\ -1 & 4 & 1 \\\\ 2 & 1 & 3\n",
    " \\end{pmatrix}\t\n",
    " \\begin{pmatrix} x_1 \\\\ x_2 \\\\ x_3 \\end{pmatrix}\n",
    " =\n",
    " \\begin{pmatrix} 4 \\\\ 4 \\\\ 6 \\end{pmatrix}\n",
    "$$\n",
    "\n",
    "厳密解は$x_1 = x_2 = x_3 = 1$である．$A$は正定値対称行列なのでCG法は収束する．\n"
   ]
  },
  {
   "cell_type": "code",
   "execution_count": 1,
   "id": "861542a1-5779-469f-81ba-6696e45a0bde",
   "metadata": {},
   "outputs": [
    {
     "name": "stdout",
     "output_type": "stream",
     "text": [
      "(i, Float32.(x)) = (1, Float32[0.8192771, 0.8192771, 1.2289157])\n",
      "(i, Float32.(x)) = (2, Float32[0.7968128, 0.90039843, 1.1952192])\n",
      "(i, Float32.(x)) = (3, Float32[1.0, 1.0, 1.0])\n",
      "x = [1.000000000000001, 1.0000000000000009, 0.9999999999999999]\n"
     ]
    },
    {
     "data": {
      "text/plain": [
       "3-element Vector{Float64}:\n",
       " 1.000000000000001\n",
       " 1.0000000000000009\n",
       " 0.9999999999999999"
      ]
     },
     "execution_count": 1,
     "metadata": {},
     "output_type": "execute_result"
    }
   ],
   "source": [
    "using LinearAlgebra\n",
    "A = [3 -1 2; -1 4 1; 2 1 3]\n",
    "b = [4, 4, 6]\n",
    "x = [0, 0, 0]\n",
    "r = b - A*x\n",
    "p = r\n",
    "tol = 1e-6   # 停止条件のtolerance\n",
    "\n",
    "# 固有値の確認\n",
    "# eigvals(A)\n",
    "\n",
    "# CG法による反復計算\n",
    "for i in 1:20\n",
    "    alpha = r'*p/(p'*A*p)\n",
    "    xx = x + alpha*p\n",
    "    # 停止条件\n",
    "    (norm(xx - x) < tol) && break\n",
    "    x = xx\n",
    "    @show i, Float32.(x)   # 途中経過の表示\n",
    "    r = r - alpha*A*p\n",
    "    beta = r'*A*p/(p'*A*p)\n",
    "    p = r - beta*p\n",
    "end\n",
    "@show x   # 数値解の表示"
   ]
  },
  {
   "cell_type": "markdown",
   "id": "876c0ff9-ff65-46d0-9aa9-4e2af94aac2a",
   "metadata": {},
   "source": [
    "この場合は3回の反復で厳密解が得られている．\n",
    "\n",
    "最大反復回数と停止条件のtoleranceは問題に応じて適切な数値に適宜変更されたい．\n",
    "なお，途中経過を表示するコードのところで`Float.32(x)`と単精度型に変換しているのは\n",
    "表示桁数を減らすためである．"
   ]
  }
 ],
 "metadata": {
  "kernelspec": {
   "display_name": "Julia 1.9.0-beta3",
   "language": "julia",
   "name": "julia-1.9"
  },
  "language_info": {
   "file_extension": ".jl",
   "mimetype": "application/julia",
   "name": "julia",
   "version": "1.9.0"
  }
 },
 "nbformat": 4,
 "nbformat_minor": 5
}
