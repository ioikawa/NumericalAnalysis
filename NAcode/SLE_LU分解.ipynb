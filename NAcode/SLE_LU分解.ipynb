{
 "cells": [
  {
   "cell_type": "markdown",
   "id": "ae5534ac-b51b-44d9-9a92-0df06b9d4ab0",
   "metadata": {
    "tags": []
   },
   "source": [
    "# JuliaによるLU分解の計算\n",
    "\n",
    "行列$A$のLU分解は `LinearAlgebra`パッケージの`lu(A)`関数で計算できる．"
   ]
  },
  {
   "cell_type": "code",
   "execution_count": 5,
   "id": "4c2d736c-bfa6-48af-82bc-017eb1ec013c",
   "metadata": {},
   "outputs": [
    {
     "data": {
      "text/plain": [
       "LU{Float64, Matrix{Float64}, Vector{Int64}}\n",
       "L factor:\n",
       "3×3 Matrix{Float64}:\n",
       " 1.0  0.0  0.0\n",
       " 1.0  1.0  0.0\n",
       " 1.0  3.0  1.0\n",
       "U factor:\n",
       "3×3 Matrix{Float64}:\n",
       " 1.0  2.0  3.0\n",
       " 0.0  2.0  6.0\n",
       " 0.0  0.0  6.0"
      ]
     },
     "execution_count": 5,
     "metadata": {},
     "output_type": "execute_result"
    }
   ],
   "source": [
    "using LinearAlgebra\n",
    "A = Float64[1 2 3; 1 4 9; 1 8 27];\n",
    "L,U = lu(A,NoPivot())  "
   ]
  },
  {
   "cell_type": "code",
   "execution_count": 6,
   "id": "6737e05c-62db-4b79-858d-3abaa2557bf8",
   "metadata": {},
   "outputs": [
    {
     "data": {
      "text/plain": [
       "true"
      ]
     },
     "execution_count": 6,
     "metadata": {},
     "output_type": "execute_result"
    }
   ],
   "source": [
    "L*U == A   # 確認"
   ]
  },
  {
   "cell_type": "markdown",
   "id": "3fcc036e-fdb5-4c61-ba98-9cf69deeadc3",
   "metadata": {},
   "source": [
    "これで `L`, `U` に$A$のLU分解の行列が格納される．\n",
    "\n",
    "#### 【注意】\n",
    "上の例で `lu(A)` ではなく `lu(A,NoPivot())`\n",
    "としているのは後述する pivoting を行わないように指定するためである．\n",
    "\n",
    "pivotingを有効にすると$L, U$が三角行列のならないので，今の場合は\n",
    "pivotingを無効にしている．\n",
    "\n",
    "通常は，pivotingを有効にしたほうがよい\n",
    "（例えば，精度や計算速度の向上が期待できる）．"
   ]
  },
  {
   "cell_type": "code",
   "execution_count": 38,
   "id": "634425ff-cfa5-4f63-9efa-43c5717981be",
   "metadata": {},
   "outputs": [
    {
     "data": {
      "text/plain": [
       "LU{Float64, Matrix{Float64}, Vector{Int64}}\n",
       "L factor:\n",
       "3×3 Matrix{Float64}:\n",
       " 1.0  0.0       0.0\n",
       " 1.0  1.0       0.0\n",
       " 1.0  0.333333  1.0\n",
       "U factor:\n",
       "3×3 Matrix{Float64}:\n",
       " 1.0  2.0   3.0\n",
       " 0.0  6.0  24.0\n",
       " 0.0  0.0  -2.0"
      ]
     },
     "execution_count": 38,
     "metadata": {},
     "output_type": "execute_result"
    }
   ],
   "source": [
    "L,U,piv = lu(A)  # `piv` に pivotingによる行交換の情報が格納される"
   ]
  },
  {
   "cell_type": "code",
   "execution_count": 29,
   "id": "0d0d5cd6-02e1-4a59-ad65-e32ba871acb9",
   "metadata": {},
   "outputs": [
    {
     "data": {
      "text/plain": [
       "false"
      ]
     },
     "execution_count": 29,
     "metadata": {},
     "output_type": "execute_result"
    }
   ],
   "source": [
    "L*U == A   # 確認"
   ]
  },
  {
   "cell_type": "code",
   "execution_count": 30,
   "id": "f3c4823b-b8dc-4ff4-bff8-1b25039c49d0",
   "metadata": {},
   "outputs": [
    {
     "data": {
      "text/plain": [
       "3-element Vector{Int64}:\n",
       " 1\n",
       " 3\n",
       " 2"
      ]
     },
     "execution_count": 30,
     "metadata": {},
     "output_type": "execute_result"
    }
   ],
   "source": [
    "piv"
   ]
  },
  {
   "cell_type": "markdown",
   "id": "e18f4068-4bf1-4844-b0d5-bed290a88b40",
   "metadata": {},
   "source": [
    "これは 2行目と3行目が交換されたことを示唆している．"
   ]
  },
  {
   "cell_type": "code",
   "execution_count": 36,
   "id": "2517a611-8ae0-4f44-a249-9ca76be9caf0",
   "metadata": {},
   "outputs": [
    {
     "data": {
      "text/plain": [
       "3×3 Matrix{Float64}:\n",
       " 1.0  0.0  0.0\n",
       " 0.0  0.0  1.0\n",
       " 0.0  1.0  0.0"
      ]
     },
     "execution_count": 36,
     "metadata": {},
     "output_type": "execute_result"
    }
   ],
   "source": [
    "P = zeros(size(A))   # 同じサイズのゼロ行列生成\n",
    "for i in 1:size(A)[1]\n",
    "   P[i,piv[i]] = 1\n",
    "end\n",
    "P"
   ]
  },
  {
   "cell_type": "code",
   "execution_count": 39,
   "id": "2683b539-40e2-4a44-8c22-2e1a87e0c7fc",
   "metadata": {},
   "outputs": [
    {
     "data": {
      "text/plain": [
       "true"
      ]
     },
     "execution_count": 39,
     "metadata": {},
     "output_type": "execute_result"
    }
   ],
   "source": [
    "P*L*U == A    "
   ]
  },
  {
   "cell_type": "code",
   "execution_count": null,
   "id": "159a56fa-37b6-4bd5-a0ea-9e701a6bffaf",
   "metadata": {},
   "outputs": [],
   "source": []
  }
 ],
 "metadata": {
  "kernelspec": {
   "display_name": "Julia 1.9.0-beta3",
   "language": "julia",
   "name": "julia-1.9"
  },
  "language_info": {
   "file_extension": ".jl",
   "mimetype": "application/julia",
   "name": "julia",
   "version": "1.9.0"
  }
 },
 "nbformat": 4,
 "nbformat_minor": 5
}
