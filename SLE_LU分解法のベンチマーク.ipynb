{
 "cells": [
  {
   "cell_type": "markdown",
   "id": "17e6282c-3501-4073-b127-ff546a2b6cae",
   "metadata": {},
   "source": [
    "# LU分解法のベンチマーク\n",
    "\n",
    "同じ係数行列を持つ複数の連立１次方程式\n",
    "$$ \n",
    "Ax_i = b_i  (i=1,2,...,N)\n",
    "$$\n",
    "\n",
    "に対して，LU分解法はGaussの消去法を繰り返すよりも\n",
    "理論的には速いといわれる．どれくらい速くなるか考察しつつ，ベンチマークで検証する．\n",
    "\n",
    "## Gaussの消去法 \n",
    "$A\\vec{x} = \\vec{b}$ をGaussの消去法で\n",
    "解いたときに要する時間を `BenchmarkTools` の\n",
    "`@btime`マクロで計測する．"
   ]
  },
  {
   "cell_type": "code",
   "execution_count": 10,
   "id": "3f331803-0960-4884-bf32-24b294ebb78a",
   "metadata": {},
   "outputs": [],
   "source": [
    "#]add BenchmarkTools  # パッケージのインストール必要"
   ]
  },
  {
   "cell_type": "code",
   "execution_count": 19,
   "id": "bd9ee212-1be0-47ad-add2-93a8099a24ec",
   "metadata": {},
   "outputs": [
    {
     "name": "stdout",
     "output_type": "stream",
     "text": [
      "  119.791 μs (4 allocations: 79.92 KiB)\n",
      "  362.125 μs (12 allocations: 239.77 KiB)\n"
     ]
    }
   ],
   "source": [
    "using BenchmarkTools  \n",
    "A = rand(100,100); \n",
    "b1 = rand(100);\n",
    "b2 = rand(100);\n",
    "b3 = rand(100);\n",
    "\n",
    "@btime A\\b1;\n",
    "@btime (A\\b1; A\\b2; A\\b3;);"
   ]
  },
  {
   "cell_type": "markdown",
   "id": "8f2d1e17-b48c-4ce2-89c9-d779525ecb88",
   "metadata": {},
   "source": [
    "実行時間は1本あたり，およそ 120[μs]となった．\n",
    "したがって，$N$本の場合は \n",
    "\n",
    "**120N**[μs]\n",
    "\n",
    "と推定される．\n",
    "\n",
    "## LU分解\n",
    "LU分解を1度計算し，"
   ]
  },
  {
   "cell_type": "code",
   "execution_count": 20,
   "id": "70c57487-a7e5-414d-ae68-49bd1eb396bb",
   "metadata": {},
   "outputs": [
    {
     "name": "stdout",
     "output_type": "stream",
     "text": [
      "  131.458 μs (10 allocations: 235.45 KiB)\n",
      "  149.375 μs (10 allocations: 235.45 KiB)\n"
     ]
    }
   ],
   "source": [
    "using LinearAlgebra\n",
    "@btime L,U = lu(A);\n",
    "@btime L,U = lu(A,NoPivot());   # pivoting無しの場合"
   ]
  },
  {
   "cell_type": "markdown",
   "id": "e4fa9ac7-2103-4c89-8479-cd24ced1e11b",
   "metadata": {},
   "source": [
    "LU分解についても時間を計測すると，約130[μs]となった．\n",
    "\n",
    "比較のためにpivotingを無しにして計測すると．約150[μs]と若干遅くなった．"
   ]
  },
  {
   "cell_type": "markdown",
   "id": "72f71c6d-bf47-4ffa-945f-da393dc9e23a",
   "metadata": {},
   "source": [
    "LU分解法により解を計算すると，"
   ]
  },
  {
   "cell_type": "code",
   "execution_count": 24,
   "id": "fa80e40f-e85a-4630-a29a-74dc3094044a",
   "metadata": {},
   "outputs": [
    {
     "name": "stdout",
     "output_type": "stream",
     "text": [
      "  9.417 μs (2 allocations: 1.75 KiB)\n",
      "  28.375 μs (6 allocations: 5.25 KiB)\n"
     ]
    }
   ],
   "source": [
    "L,U = lu(A)\n",
    "@btime U\\(L\\b1);   # 1本の場合\n",
    "@btime (U\\(L\\b1); U\\(L\\b2); U\\(L\\b3));   # 3本の場合"
   ]
  },
  {
   "cell_type": "markdown",
   "id": "745c25a0-8b70-452b-aeb0-a2699243f145",
   "metadata": {
    "tags": []
   },
   "source": [
    "実行時間は1本あたり約 9[μs]となった．\n",
    "LU分解にかかる時間が 130 [μs] だから，\n",
    "$N$本の場合は **130+ 9N** [μs] となる．\n",
    "\n",
    "ここで，`T` が 上三角 or 下三角行列の場合，`T\\b`は後退 or 前進代入により解が計算されることに注意\n",
    "・・・【[参考](https://docs.julialang.org/en/v1/stdlib/LinearAlgebra/#Base.:\\\\-Tuple{AbstractMatrix,%20AbstractVecOrMat})】\n",
    "    \n",
    "## ノート\n",
    "右辺のベクトル$\\vec{b}^{(1)}, \\ldots, \\vec{b}^{(N)}$が一度に与えられている場合は，\n",
    "次のようにしたほうが最も速く計算できるだろう．"
   ]
  },
  {
   "cell_type": "code",
   "execution_count": null,
   "id": "aa4c9a0b-599b-42e8-b319-a3dfce808fb7",
   "metadata": {},
   "outputs": [],
   "source": [
    "@btime A\\[b1 b2 b3]"
   ]
  }
 ],
 "metadata": {
  "kernelspec": {
   "display_name": "Julia 1.9.0-rc1",
   "language": "julia",
   "name": "julia-1.9"
  },
  "language_info": {
   "file_extension": ".jl",
   "mimetype": "application/julia",
   "name": "julia",
   "version": "1.9.0"
  }
 },
 "nbformat": 4,
 "nbformat_minor": 5
}
