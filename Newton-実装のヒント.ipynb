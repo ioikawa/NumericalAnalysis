{
 "cells": [
  {
   "cell_type": "markdown",
   "id": "stupid-confusion",
   "metadata": {},
   "source": [
    "# Julia言語によるNewton法の実装のヒント\n",
    "\n",
    "例として，次の$x_1,x_2$を未知変数とする連立非線形方程式を考える．\n",
    "$$\n",
    "\\begin{aligned}\n",
    "     x_2 = 2(x_1^3-1)/(3x_1^2-2), \\\\ \n",
    "     x_1 = 2(x_2^3-1)/(3x_2^2-2).\n",
    " \\end{aligned}\n",
    "$$\n",
    "\n",
    "## ベクトル値関数の実装\n",
    "これを$\\vec{x} =(x_1,x_2)^T$とおいてベクトル値関数で書き直す：\n",
    "$$\n",
    "   \\vec f(\\vec{x}) = \\begin{bmatrix}\n",
    "       x_2(3x_1^2-2) - 2(x_1^3-1) \\\\ x_1(3x_2^2-2) - 2(x_2^3-1)\n",
    "   \\end{bmatrix}\n",
    "$$\n",
    "\n",
    "このベクトル値関数をJulia言語で実装すると次のようになる"
   ]
  },
  {
   "cell_type": "code",
   "execution_count": 2,
   "id": "floating-candidate",
   "metadata": {},
   "outputs": [
    {
     "data": {
      "text/plain": [
       "f (generic function with 1 method)"
      ]
     },
     "execution_count": 2,
     "metadata": {},
     "output_type": "execute_result"
    }
   ],
   "source": [
    "function f(x) \n",
    "   return [x[2]*(3x[1]^2-2)-2*(x[1]^3-1), \n",
    "           x[1]*(3x[2]^2-2)-2*(x[2]^3-1)]\n",
    "end\n",
    "#（いまの場合，return は書いても書かなくても同じ動作になる．）"
   ]
  },
  {
   "cell_type": "markdown",
   "id": "equal-affiliation",
   "metadata": {},
   "source": [
    "## 行列を返す関数\n",
    "$f$の微分\n",
    "$$\n",
    "\\begin{aligned}\n",
    "    D\\vec f(\\vec x) = \\begin{bmatrix}\n",
    "         6x_1(x_2 - x_1) & 3x_1^2 - 2 \\\\\n",
    "         3x_2^2 - 2       & 6x_2(x_1 - x_2) \n",
    "    \\end{bmatrix}\n",
    "\\end{aligned}\n",
    "$$\n",
    "は次のように実装される．"
   ]
  },
  {
   "cell_type": "code",
   "execution_count": 1,
   "id": "cross-scientist",
   "metadata": {},
   "outputs": [
    {
     "data": {
      "text/plain": [
       "Df (generic function with 1 method)"
      ]
     },
     "execution_count": 1,
     "metadata": {},
     "output_type": "execute_result"
    }
   ],
   "source": [
    "function Df(x) \n",
    "   return [ 6x[1]*(x[2]-x[1]) 3x[1]^2 - 2; \n",
    "            3x[2]^2 - 2       6x[2]*(x[1]-x[2]) ]\n",
    "end"
   ]
  },
  {
   "cell_type": "markdown",
   "id": "macro-scottish",
   "metadata": {},
   "source": [
    "## ベクトルノルムの計算\n",
    "`LinearAlgebra` パッケージに含まれる `norm(x)`関数を用いればよい．"
   ]
  },
  {
   "cell_type": "code",
   "execution_count": 3,
   "id": "attached-algebra",
   "metadata": {},
   "outputs": [
    {
     "data": {
      "text/plain": [
       "5.0"
      ]
     },
     "execution_count": 3,
     "metadata": {},
     "output_type": "execute_result"
    }
   ],
   "source": [
    "using LinearAlgebra\n",
    "norm([3,4])"
   ]
  }
 ],
 "metadata": {
  "kernelspec": {
   "display_name": "Julia 1.7.3",
   "language": "julia",
   "name": "julia-1.7"
  },
  "language_info": {
   "file_extension": ".jl",
   "mimetype": "application/julia",
   "name": "julia",
   "version": "1.7.3"
  }
 },
 "nbformat": 4,
 "nbformat_minor": 5
}
