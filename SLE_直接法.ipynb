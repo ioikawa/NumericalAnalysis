{
 "cells": [
  {
   "cell_type": "markdown",
   "id": "aabcebb2-d0f0-49b7-ba4b-7761eb211890",
   "metadata": {},
   "source": [
    "# 連立一次方程式：直接法\n",
    "\n",
    "次の連立一次方程式を考える．\n",
    "$$\n",
    "Ax = b; \\qquad \n",
    "   A = \\begin{pmatrix} 1 & 2 & 3 \\\\ 1 & 4 & 9 \\\\ 1 & 8 & 27 \\end{pmatrix}, \n",
    "   \\quad \n",
    "   b = \\begin{pmatrix} 1 \\\\ 2 \\\\ 3 \\end{pmatrix}\n",
    "$$\n",
    "\n",
    "## 数値解の計算\n",
    "$Ax=b$を直接法で解くには `A\\b` と書けばよい．"
   ]
  },
  {
   "cell_type": "code",
   "execution_count": 3,
   "id": "6ff748b3-b81b-4f63-9d8c-9aeb2c7a8ca9",
   "metadata": {},
   "outputs": [
    {
     "data": {
      "text/plain": [
       "3-element Vector{Float64}:\n",
       " -0.5000000000000002\n",
       "  1.0000000000000002\n",
       " -0.1666666666666667"
      ]
     },
     "execution_count": 3,
     "metadata": {},
     "output_type": "execute_result"
    }
   ],
   "source": [
    "A = Float64[1 2 3; 1 4 9; 1 8 27]\n",
    "b = [1,2,3];\n",
    "A\\b"
   ]
  },
  {
   "cell_type": "markdown",
   "id": "fbeadc95-bd95-48fa-aa2a-54080cc141a0",
   "metadata": {},
   "source": [
    "## 前進消去\n"
   ]
  },
  {
   "cell_type": "code",
   "execution_count": 13,
   "id": "a394ff02-b5c7-4fe6-8bb9-262da28b17e4",
   "metadata": {
    "scrolled": true
   },
   "outputs": [
    {
     "data": {
      "text/plain": [
       "3×4 Matrix{Float64}:\n",
       " 1.0  2.0   3.0  1.0\n",
       " 1.0  4.0   9.0  2.0\n",
       " 1.0  8.0  27.0  3.0"
      ]
     },
     "execution_count": 13,
     "metadata": {},
     "output_type": "execute_result"
    }
   ],
   "source": [
    "# 拡大係数行列\n",
    "Ã = [A b]    # A\\tilde[tab]"
   ]
  },
  {
   "cell_type": "code",
   "execution_count": 9,
   "id": "8274e66f-d873-4177-859d-24e5f0965ac9",
   "metadata": {},
   "outputs": [
    {
     "data": {
      "text/plain": [
       "(3, 4)"
      ]
     },
     "execution_count": 9,
     "metadata": {},
     "output_type": "execute_result"
    }
   ],
   "source": [
    "n, m = size(Ã)   # サイズの確認"
   ]
  },
  {
   "cell_type": "code",
   "execution_count": 17,
   "id": "0edc75d6-b13e-41c3-8158-8c633207a20c",
   "metadata": {},
   "outputs": [
    {
     "data": {
      "text/plain": [
       "3×4 Matrix{Float64}:\n",
       " 1.0  2.0  3.0   1.0\n",
       " 0.0  2.0  6.0   1.0\n",
       " 0.0  0.0  6.0  -1.0"
      ]
     },
     "execution_count": 17,
     "metadata": {},
     "output_type": "execute_result"
    }
   ],
   "source": [
    "# 与えられた行列Aを前進消去する\n",
    "function forward_elimination(A)\n",
    "    n, m = size(A)  # 行列サイズの取得\n",
    "    \n",
    "    for k in 1:(n-1), i in (k+1):n\n",
    "        A[i,:] -= A[i,k]/A[k,k]*A[k,:]\n",
    "    end\n",
    "    return A\n",
    "end\n",
    "\n",
    "forward_elimination(Ã)"
   ]
  },
  {
   "cell_type": "markdown",
   "id": "794f76c4",
   "metadata": {},
   "source": [
    "## 行掃き出し行列の実例\n",
    "\n",
    "正方行列\n",
    "$$\\begin{pmatrix}\n",
    " a_{11} &  \\ast  &  \\ast \\\\\n",
    " a_{21} &  \\ast  &  \\ast \\\\\n",
    " a_{31} &  \\ast  &  \\ast  \n",
    "\\end{pmatrix}$$\n",
    "に対して，\n",
    "左から\n",
    "$$\\begin{pmatrix}\n",
    " 1     &     &   \\\\\n",
    " -a_{21}/a_{11} &  1  &   \\\\\n",
    " -a_{31}/a_{11} &    & 1  \n",
    "\\end{pmatrix}$$\n",
    "をかけると第1列を掃き出される．\n",
    "\n",
    "具体例として，次の行列 `A` に対して左から行列をかけて掃き出してみる．"
   ]
  },
  {
   "cell_type": "code",
   "execution_count": 3,
   "id": "5f5f01e2",
   "metadata": {},
   "outputs": [
    {
     "data": {
      "text/plain": [
       "3×3 Matrix{Float64}:\n",
       " 1.0  2.0   3.0\n",
       " 1.0  4.0   9.0\n",
       " 1.0  8.0  27.0"
      ]
     },
     "execution_count": 3,
     "metadata": {},
     "output_type": "execute_result"
    }
   ],
   "source": [
    "A = Float64[1 2 3 ; 1 4 9 ; 1 8 27]"
   ]
  },
  {
   "cell_type": "code",
   "execution_count": 4,
   "id": "eae2fc19",
   "metadata": {},
   "outputs": [
    {
     "data": {
      "text/plain": [
       "3×3 Matrix{Float64}:\n",
       "  1.0  0.0  0.0\n",
       " -1.0  1.0  0.0\n",
       " -1.0  0.0  1.0"
      ]
     },
     "execution_count": 4,
     "metadata": {},
     "output_type": "execute_result"
    }
   ],
   "source": [
    "M1 = Float64[1 0 0 ; -1 1 0; -1 0 1]"
   ]
  },
  {
   "cell_type": "code",
   "execution_count": 5,
   "id": "de3c3ea1",
   "metadata": {},
   "outputs": [
    {
     "data": {
      "text/plain": [
       "3×3 Matrix{Float64}:\n",
       " 1.0  2.0   3.0\n",
       " 0.0  2.0   6.0\n",
       " 0.0  6.0  24.0"
      ]
     },
     "execution_count": 5,
     "metadata": {},
     "output_type": "execute_result"
    }
   ],
   "source": [
    "M1*A"
   ]
  },
  {
   "cell_type": "markdown",
   "id": "4b19b3df",
   "metadata": {},
   "source": [
    "同様にして第2列を掃き出す．"
   ]
  },
  {
   "cell_type": "code",
   "execution_count": 8,
   "id": "49e2e56f",
   "metadata": {},
   "outputs": [
    {
     "data": {
      "text/plain": [
       "3×3 Matrix{Float64}:\n",
       " 1.0   0.0  0.0\n",
       " 0.0   1.0  0.0\n",
       " 0.0  -3.0  1.0"
      ]
     },
     "execution_count": 8,
     "metadata": {},
     "output_type": "execute_result"
    }
   ],
   "source": [
    "M2 = Float64[1 0 0 ; 0 1 0;0 -6/2 1]"
   ]
  },
  {
   "cell_type": "code",
   "execution_count": 9,
   "id": "eae2eeea",
   "metadata": {},
   "outputs": [
    {
     "data": {
      "text/plain": [
       "3×3 Matrix{Float64}:\n",
       " 1.0  2.0  3.0\n",
       " 0.0  2.0  6.0\n",
       " 0.0  0.0  6.0"
      ]
     },
     "execution_count": 9,
     "metadata": {},
     "output_type": "execute_result"
    }
   ],
   "source": [
    "M2*M1*A"
   ]
  },
  {
   "cell_type": "markdown",
   "id": "ee8d7e42-c86f-4f2f-a611-f7fa4e0a2c53",
   "metadata": {
    "tags": []
   },
   "source": [
    "# 前進消去の行列積表現\n",
    "行列 $A$ を前進消去することは，ある下三角行列 $M$ を左かけて上三角行列 $U$ を得ることと同値である：\n",
    "$$\n",
    "  MA = U.\n",
    "$$\n",
    "$A$を同じサイズの単位行列$E$を右側につけて拡大した行列 \n",
    "$$\\begin{pmatrix} A & E \\end{pmatrix}$$\n",
    "に対して，左半分の$A$の部分を前進消去したとき，\n",
    "$$\n",
    "  \\begin{pmatrix} U & M \\end{pmatrix}\n",
    "$$\n",
    "となることから，$U$, $M$を具体的に計算できる．"
   ]
  },
  {
   "cell_type": "code",
   "execution_count": 18,
   "id": "9ec56c5b-590d-41f8-a01e-3712706ea5ba",
   "metadata": {},
   "outputs": [
    {
     "data": {
      "text/plain": [
       "3×6 Matrix{Float64}:\n",
       " 1.0  2.0   3.0  1.0  0.0  0.0\n",
       " 1.0  4.0   9.0  0.0  1.0  0.0\n",
       " 1.0  8.0  27.0  0.0  0.0  1.0"
      ]
     },
     "execution_count": 18,
     "metadata": {},
     "output_type": "execute_result"
    }
   ],
   "source": [
    "A = Float64[1 2 3; 1 4 9; 1 8 27]\n",
    "E = Float64[1 0 0; 0 1 0; 0 0 1]\n",
    "\n",
    "Ã = [A E]   "
   ]
  },
  {
   "cell_type": "code",
   "execution_count": 19,
   "id": "54bd2b68-1a62-4f25-8a38-05cd4e06d717",
   "metadata": {},
   "outputs": [
    {
     "data": {
      "text/plain": [
       "3×6 Matrix{Float64}:\n",
       " 1.0  2.0  3.0   1.0   0.0  0.0\n",
       " 0.0  2.0  6.0  -1.0   1.0  0.0\n",
       " 0.0  0.0  6.0   2.0  -3.0  1.0"
      ]
     },
     "execution_count": 19,
     "metadata": {},
     "output_type": "execute_result"
    }
   ],
   "source": [
    "forward_elimination(Ã)"
   ]
  },
  {
   "cell_type": "code",
   "execution_count": 22,
   "id": "267d51a1-fa34-43b9-a383-c5247f2fd7ac",
   "metadata": {},
   "outputs": [
    {
     "data": {
      "text/plain": [
       "3×3 Matrix{Float64}:\n",
       " 1.0  2.0  3.0\n",
       " 0.0  2.0  6.0\n",
       " 0.0  0.0  6.0"
      ]
     },
     "execution_count": 22,
     "metadata": {},
     "output_type": "execute_result"
    }
   ],
   "source": [
    "U = Ã[:,1:3]   # 左半分"
   ]
  },
  {
   "cell_type": "code",
   "execution_count": 23,
   "id": "32a4622c-7986-4164-bb8b-01bb318d0e13",
   "metadata": {},
   "outputs": [
    {
     "data": {
      "text/plain": [
       "3×3 Matrix{Float64}:\n",
       "  1.0   0.0  0.0\n",
       " -1.0   1.0  0.0\n",
       "  2.0  -3.0  1.0"
      ]
     },
     "execution_count": 23,
     "metadata": {},
     "output_type": "execute_result"
    }
   ],
   "source": [
    "M = Ã[:,4:6]   # 右半分"
   ]
  },
  {
   "cell_type": "code",
   "execution_count": 24,
   "id": "98ac3a7a-8925-44e0-9590-103a619f3e5f",
   "metadata": {},
   "outputs": [
    {
     "data": {
      "text/plain": [
       "true"
      ]
     },
     "execution_count": 24,
     "metadata": {},
     "output_type": "execute_result"
    }
   ],
   "source": [
    "M*A == U  # 確認"
   ]
  }
 ],
 "metadata": {
  "kernelspec": {
   "display_name": "Julia 1.9.0-rc1",
   "language": "julia",
   "name": "julia-1.9"
  },
  "language_info": {
   "file_extension": ".jl",
   "mimetype": "application/julia",
   "name": "julia",
   "version": "1.9.0"
  }
 },
 "nbformat": 4,
 "nbformat_minor": 5
}
