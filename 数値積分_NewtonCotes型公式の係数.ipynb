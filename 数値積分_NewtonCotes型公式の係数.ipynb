{
 "cells": [
  {
   "cell_type": "markdown",
   "id": "b25e8f0d-3b26-4857-93b4-1ea66ea36196",
   "metadata": {},
   "source": [
    "# Newton--Cotesの閉型公式\n"
   ]
  },
  {
   "cell_type": "code",
   "execution_count": 2,
   "id": "01a0f184-b347-43fd-9c11-2718a77bf067",
   "metadata": {},
   "outputs": [
    {
     "name": "stdout",
     "output_type": "stream",
     "text": [
      "w = Any[16067/598752, 26575/149688, -16175/199584, 5675/12474, -4825/11088, 17807/24948, -4825/11088, 5675/12474, -16175/199584, 26575/149688, 16067/598752]\n"
     ]
    },
    {
     "data": {
      "text/plain": [
       "11-element Vector{Any}:\n",
       "  16067/598752\n",
       "  26575/149688\n",
       " -16175/199584\n",
       "    5675/12474\n",
       "   -4825/11088\n",
       "   17807/24948\n",
       "   -4825/11088\n",
       "    5675/12474\n",
       " -16175/199584\n",
       "  26575/149688\n",
       "  16067/598752"
      ]
     },
     "execution_count": 2,
     "metadata": {},
     "output_type": "execute_result"
    }
   ],
   "source": [
    "using SymPy\n",
    "@vars x  # `x`は変数として宣言\n",
    "n = 10;   # 等分割数\n",
    "a,b = 0,1;   # 区間\n",
    "\n",
    "function lambda(i)\n",
    "    y = 1\n",
    "    ai = (b-a)*i//n + a\n",
    "    for j in 0:n\n",
    "        aj = (b-a)*j//n + a\n",
    "        (j != i) && (y *= (x-aj)//(ai-aj))\n",
    "    end\n",
    "    return y\n",
    "end\n",
    "\n",
    "w = []\n",
    "for i in 0:n\n",
    "    int_lambda = integrate(lambda(i), x)  # 不定積分\n",
    "    # 本当は良くない方法だが，1を代入することで厳密な定積分値を得る．\n",
    "    # `integrate(...,(x,a,b))`とするとFloat64になってしまうので，その回避策．\n",
    "    push!(w, int_lambda.subs(x, 1)) \n",
    "end\n",
    "@show w"
   ]
  },
  {
   "cell_type": "code",
   "execution_count": null,
   "id": "fd86b169-74af-4b99-b33c-e6bef69dcac1",
   "metadata": {},
   "outputs": [],
   "source": []
  }
 ],
 "metadata": {
  "kernelspec": {
   "display_name": "Julia 1.9.0-beta3",
   "language": "julia",
   "name": "julia-1.9"
  },
  "language_info": {
   "file_extension": ".jl",
   "mimetype": "application/julia",
   "name": "julia",
   "version": "1.9.0"
  }
 },
 "nbformat": 4,
 "nbformat_minor": 5
}
