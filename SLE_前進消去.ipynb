{
 "cells": [
  {
   "cell_type": "markdown",
   "id": "33c8c4bc",
   "metadata": {},
   "source": [
    "## Juliaによる前進消去"
   ]
  },
  {
   "cell_type": "code",
   "execution_count": 1,
   "id": "a394ff02-b5c7-4fe6-8bb9-262da28b17e4",
   "metadata": {
    "scrolled": true
   },
   "outputs": [
    {
     "data": {
      "text/plain": [
       "3×4 Matrix{Float64}:\n",
       " 1.0  2.0   3.0  1.0\n",
       " 1.0  4.0   9.0  2.0\n",
       " 1.0  8.0  27.0  3.0"
      ]
     },
     "execution_count": 1,
     "metadata": {},
     "output_type": "execute_result"
    }
   ],
   "source": [
    "# 拡大係数行列\n",
    "A = Float64[1 2 3 1; 1 4 9 2; 1 8 27 3]"
   ]
  },
  {
   "cell_type": "code",
   "execution_count": 2,
   "id": "8274e66f-d873-4177-859d-24e5f0965ac9",
   "metadata": {},
   "outputs": [
    {
     "data": {
      "text/plain": [
       "(3, 4)"
      ]
     },
     "execution_count": 2,
     "metadata": {},
     "output_type": "execute_result"
    }
   ],
   "source": [
    "n, m = size(A)   # サイズの確認"
   ]
  },
  {
   "cell_type": "code",
   "execution_count": 3,
   "id": "0edc75d6-b13e-41c3-8158-8c633207a20c",
   "metadata": {},
   "outputs": [
    {
     "name": "stdout",
     "output_type": "stream",
     "text": [
      "A = [1.0 2.0 3.0 1.0; 0.0 2.0 6.0 1.0; 0.0 0.0 6.0 -1.0]\n"
     ]
    },
    {
     "data": {
      "text/plain": [
       "3×4 Matrix{Float64}:\n",
       " 1.0  2.0  3.0   1.0\n",
       " 0.0  2.0  6.0   1.0\n",
       " 0.0  0.0  6.0  -1.0"
      ]
     },
     "execution_count": 3,
     "metadata": {},
     "output_type": "execute_result"
    }
   ],
   "source": [
    "# 前進消去\n",
    "for k in 1:(n-1), i in (k+1):n\n",
    "    A[i,:] -= A[i,k]/A[k,k]*A[k,:]\n",
    "end\n",
    "\n",
    "@show A # 確認"
   ]
  },
  {
   "cell_type": "markdown",
   "id": "b52b25e9-2615-4438-86f7-39391351e153",
   "metadata": {},
   "source": [
    "あとは後退代入を行えば解が得られるが，練習のためなのでここでやめておく．\n",
    "\n",
    "## backslash演算子`\\`\n",
    "実際に連立一次方程式を解く場合には backslash演算子`\\`を使う．"
   ]
  },
  {
   "cell_type": "code",
   "execution_count": 4,
   "id": "b7a4868e-df36-4cdb-96d3-0b90d8cd79c5",
   "metadata": {},
   "outputs": [
    {
     "data": {
      "text/plain": [
       "3-element Vector{Float64}:\n",
       " -0.5000000000000002\n",
       "  1.0000000000000002\n",
       " -0.1666666666666667"
      ]
     },
     "execution_count": 4,
     "metadata": {},
     "output_type": "execute_result"
    }
   ],
   "source": [
    "A = Float64[1 2 3; 1 4 9; 1 8 27]\n",
    "b = [1,2,3];\n",
    "A\\b"
   ]
  },
  {
   "cell_type": "markdown",
   "id": "794f76c4",
   "metadata": {},
   "source": [
    "## 行掃き出し行列の実例\n",
    "\n",
    "正方行列\n",
    "$$\\begin{pmatrix}\n",
    " a_{11} &  \\ast  &  \\ast \\\\\n",
    " a_{21} &  \\ast  &  \\ast \\\\\n",
    " a_{31} &  \\ast  &  \\ast  \n",
    "\\end{pmatrix}$$\n",
    "に対して，\n",
    "左から\n",
    "$$\\begin{pmatrix}\n",
    " 1     &     &   \\\\\n",
    " -a_{21}/a_{11} &  1  &   \\\\\n",
    " -a_{31}/a_{11} &    & 1  \n",
    "\\end{pmatrix}$$\n",
    "をかけると第1列を掃き出される．\n",
    "\n",
    "具体例として，次の行列 `A` に対して左から行列をかけて掃き出してみる．"
   ]
  },
  {
   "cell_type": "code",
   "execution_count": 3,
   "id": "5f5f01e2",
   "metadata": {},
   "outputs": [
    {
     "data": {
      "text/plain": [
       "3×3 Matrix{Float64}:\n",
       " 1.0  2.0   3.0\n",
       " 1.0  4.0   9.0\n",
       " 1.0  8.0  27.0"
      ]
     },
     "execution_count": 3,
     "metadata": {},
     "output_type": "execute_result"
    }
   ],
   "source": [
    "A = Float64[1 2 3 ; 1 4 9 ; 1 8 27 ]"
   ]
  },
  {
   "cell_type": "code",
   "execution_count": 4,
   "id": "eae2fc19",
   "metadata": {},
   "outputs": [
    {
     "data": {
      "text/plain": [
       "3×3 Matrix{Float64}:\n",
       "  1.0  0.0  0.0\n",
       " -1.0  1.0  0.0\n",
       " -1.0  0.0  1.0"
      ]
     },
     "execution_count": 4,
     "metadata": {},
     "output_type": "execute_result"
    }
   ],
   "source": [
    "M1 = Float64[1 0 0 ; -1 1 0; -1 0 1]"
   ]
  },
  {
   "cell_type": "code",
   "execution_count": 5,
   "id": "de3c3ea1",
   "metadata": {},
   "outputs": [
    {
     "data": {
      "text/plain": [
       "3×3 Matrix{Float64}:\n",
       " 1.0  2.0   3.0\n",
       " 0.0  2.0   6.0\n",
       " 0.0  6.0  24.0"
      ]
     },
     "execution_count": 5,
     "metadata": {},
     "output_type": "execute_result"
    }
   ],
   "source": [
    "M1*A"
   ]
  },
  {
   "cell_type": "markdown",
   "id": "4b19b3df",
   "metadata": {},
   "source": [
    "同様にして第2列を掃き出す．"
   ]
  },
  {
   "cell_type": "code",
   "execution_count": 8,
   "id": "49e2e56f",
   "metadata": {},
   "outputs": [
    {
     "data": {
      "text/plain": [
       "3×3 Matrix{Float64}:\n",
       " 1.0   0.0  0.0\n",
       " 0.0   1.0  0.0\n",
       " 0.0  -3.0  1.0"
      ]
     },
     "execution_count": 8,
     "metadata": {},
     "output_type": "execute_result"
    }
   ],
   "source": [
    "M2 = Float64[1 0 0 ; 0 1 0;0 -6/2 1]"
   ]
  },
  {
   "cell_type": "code",
   "execution_count": 9,
   "id": "eae2eeea",
   "metadata": {},
   "outputs": [
    {
     "data": {
      "text/plain": [
       "3×3 Matrix{Float64}:\n",
       " 1.0  2.0  3.0\n",
       " 0.0  2.0  6.0\n",
       " 0.0  0.0  6.0"
      ]
     },
     "execution_count": 9,
     "metadata": {},
     "output_type": "execute_result"
    }
   ],
   "source": [
    "M2*M1*A"
   ]
  },
  {
   "cell_type": "code",
   "execution_count": null,
   "id": "eb134b68",
   "metadata": {},
   "outputs": [],
   "source": []
  }
 ],
 "metadata": {
  "kernelspec": {
   "display_name": "Julia 1.9.0-beta3",
   "language": "julia",
   "name": "julia-1.9"
  },
  "language_info": {
   "file_extension": ".jl",
   "mimetype": "application/julia",
   "name": "julia",
   "version": "1.9.0"
  }
 },
 "nbformat": 4,
 "nbformat_minor": 5
}
