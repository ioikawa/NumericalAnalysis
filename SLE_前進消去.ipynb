{
 "cells": [
  {
   "cell_type": "code",
   "execution_count": 1,
   "id": "a394ff02-b5c7-4fe6-8bb9-262da28b17e4",
   "metadata": {},
   "outputs": [
    {
     "data": {
      "text/plain": [
       "3×4 Matrix{Float64}:\n",
       " 1.0  2.0   3.0  1.0\n",
       " 1.0  4.0   9.0  2.0\n",
       " 1.0  8.0  27.0  3.0"
      ]
     },
     "execution_count": 1,
     "metadata": {},
     "output_type": "execute_result"
    }
   ],
   "source": [
    "#前進消去のアルゴリズムを練習を兼ねてJuliaで書いてみよう．\n",
    "A = Float64[1 2 3 1; 1 4 9 2; 1 8 27 3]"
   ]
  },
  {
   "cell_type": "code",
   "execution_count": 2,
   "id": "8274e66f-d873-4177-859d-24e5f0965ac9",
   "metadata": {},
   "outputs": [
    {
     "data": {
      "text/plain": [
       "(3, 4)"
      ]
     },
     "execution_count": 2,
     "metadata": {},
     "output_type": "execute_result"
    }
   ],
   "source": [
    "n, m = size(A)   # サイズの確認"
   ]
  },
  {
   "cell_type": "code",
   "execution_count": 3,
   "id": "0edc75d6-b13e-41c3-8158-8c633207a20c",
   "metadata": {},
   "outputs": [
    {
     "name": "stdout",
     "output_type": "stream",
     "text": [
      "A = [1.0 2.0 3.0 1.0; 0.0 2.0 6.0 1.0; 0.0 0.0 6.0 -1.0]\n"
     ]
    },
    {
     "data": {
      "text/plain": [
       "3×4 Matrix{Float64}:\n",
       " 1.0  2.0  3.0   1.0\n",
       " 0.0  2.0  6.0   1.0\n",
       " 0.0  0.0  6.0  -1.0"
      ]
     },
     "execution_count": 3,
     "metadata": {},
     "output_type": "execute_result"
    }
   ],
   "source": [
    "# 前進消去\n",
    "for k in 1:(n-1), i in (k+1):n\n",
    "    A[i,:] -= A[i,k]/A[k,k]*A[k,:]\n",
    "end\n",
    "\n",
    "@show A # 確認"
   ]
  },
  {
   "cell_type": "markdown",
   "id": "b52b25e9-2615-4438-86f7-39391351e153",
   "metadata": {},
   "source": [
    "あとは後退代入を行えば解が得られるが，練習のためなのでここでやめておく．\n",
    "\n",
    "実際に連立一次方程式を解く場合には backslash演算子`\\`を使う．"
   ]
  },
  {
   "cell_type": "code",
   "execution_count": 4,
   "id": "b7a4868e-df36-4cdb-96d3-0b90d8cd79c5",
   "metadata": {},
   "outputs": [
    {
     "data": {
      "text/plain": [
       "3-element Vector{Float64}:\n",
       " -0.5000000000000002\n",
       "  1.0000000000000002\n",
       " -0.1666666666666667"
      ]
     },
     "execution_count": 4,
     "metadata": {},
     "output_type": "execute_result"
    }
   ],
   "source": [
    "A = Float64[1 2 3; 1 4 9; 1 8 27]\n",
    "b = [1,2,3];\n",
    "A\\b"
   ]
  }
 ],
 "metadata": {
  "kernelspec": {
   "display_name": "Julia 1.9.0-beta3",
   "language": "julia",
   "name": "julia-1.9"
  },
  "language_info": {
   "file_extension": ".jl",
   "mimetype": "application/julia",
   "name": "julia",
   "version": "1.9.0"
  }
 },
 "nbformat": 4,
 "nbformat_minor": 5
}
