{
 "cells": [
  {
   "cell_type": "markdown",
   "id": "b25e8f0d-3b26-4857-93b4-1ea66ea36196",
   "metadata": {},
   "source": [
    "# Newton--Cotesの閉型公式の重み計算\n",
    "\n",
    "- 標本点 $a_0,a_1,...,a_n$ : 区間の等分割点．両端を含むものとする．\n",
    "- $L_i(x)$: Lagrange補間の基底関数\n",
    "- $n$次のNewton--Cotesの閉型公式：\n",
    "$$\n",
    "    Q_n[f] = \\sum_{i=0}^n f(a_i) \\int_{0}^1 L_i(x) dx\n",
    "$$"
   ]
  },
  {
   "cell_type": "code",
   "execution_count": 2,
   "id": "01a0f184-b347-43fd-9c11-2718a77bf067",
   "metadata": {},
   "outputs": [
    {
     "data": {
      "text/plain": [
       "NewtonCotesCoef (generic function with 2 methods)"
      ]
     },
     "execution_count": 2,
     "metadata": {},
     "output_type": "execute_result"
    }
   ],
   "source": [
    "using SymPy\n",
    "\n",
    "# n: 分割数\n",
    "function NewtonCotesCoef(n=10)\n",
    "    @vars x  # `x`は変数として宣言\n",
    "　　a,b = 0,1;   # 区間\n",
    "    q = [(b-a)*i//n + a for i in 0:n]  # 標本点\n",
    "    L(i) = prod( (j!=i) ? (x - q[j])//(q[i] - q[j]) : 1 for j in 1:n+1)\n",
    "    \n",
    "    w = []\n",
    "    for i in 1:n+1\n",
    "        #@show L(i)\n",
    "        push!(w, integrate(L(i),(x,a,b)))\n",
    "    end\n",
    "    \n",
    "    return w\n",
    "end\n"
   ]
  },
  {
   "cell_type": "code",
   "execution_count": 3,
   "id": "fd86b169-74af-4b99-b33c-e6bef69dcac1",
   "metadata": {},
   "outputs": [
    {
     "data": {
      "text/plain": [
       "2-element Vector{Any}:\n",
       " 1/2\n",
       " 1/2"
      ]
     },
     "metadata": {},
     "output_type": "display_data"
    },
    {
     "data": {
      "text/plain": [
       "3-element Vector{Any}:\n",
       " 1/6\n",
       " 2/3\n",
       " 1/6"
      ]
     },
     "metadata": {},
     "output_type": "display_data"
    },
    {
     "data": {
      "text/plain": [
       "4-element Vector{Any}:\n",
       " 1/8\n",
       " 3/8\n",
       " 3/8\n",
       " 1/8"
      ]
     },
     "metadata": {},
     "output_type": "display_data"
    },
    {
     "data": {
      "text/plain": [
       "5-element Vector{Any}:\n",
       "  7/90\n",
       " 16/45\n",
       "  2/15\n",
       " 16/45\n",
       "  7/90"
      ]
     },
     "metadata": {},
     "output_type": "display_data"
    },
    {
     "data": {
      "text/plain": [
       "6-element Vector{Any}:\n",
       " 19/288\n",
       "  25/96\n",
       " 25/144\n",
       " 25/144\n",
       "  25/96\n",
       " 19/288"
      ]
     },
     "metadata": {},
     "output_type": "display_data"
    },
    {
     "data": {
      "text/plain": [
       "7-element Vector{Any}:\n",
       " 41/840\n",
       "   9/35\n",
       "  9/280\n",
       " 34/105\n",
       "  9/280\n",
       "   9/35\n",
       " 41/840"
      ]
     },
     "metadata": {},
     "output_type": "display_data"
    },
    {
     "data": {
      "text/plain": [
       "8-element Vector{Any}:\n",
       "  751/17280\n",
       " 3577/17280\n",
       "     49/640\n",
       " 2989/17280\n",
       " 2989/17280\n",
       "     49/640\n",
       " 3577/17280\n",
       "  751/17280"
      ]
     },
     "metadata": {},
     "output_type": "display_data"
    },
    {
     "data": {
      "text/plain": [
       "9-element Vector{Any}:\n",
       "  989/28350\n",
       " 2944/14175\n",
       " -464/14175\n",
       " 5248/14175\n",
       "  -454/2835\n",
       " 5248/14175\n",
       " -464/14175\n",
       " 2944/14175\n",
       "  989/28350"
      ]
     },
     "metadata": {},
     "output_type": "display_data"
    },
    {
     "data": {
      "text/plain": [
       "10-element Vector{Any}:\n",
       "  2857/89600\n",
       " 15741/89600\n",
       "     27/2240\n",
       "   1209/5600\n",
       "  2889/44800\n",
       "  2889/44800\n",
       "   1209/5600\n",
       "     27/2240\n",
       " 15741/89600\n",
       "  2857/89600"
      ]
     },
     "metadata": {},
     "output_type": "display_data"
    },
    {
     "data": {
      "text/plain": [
       "11-element Vector{Any}:\n",
       "  16067/598752\n",
       "  26575/149688\n",
       " -16175/199584\n",
       "    5675/12474\n",
       "   -4825/11088\n",
       "   17807/24948\n",
       "   -4825/11088\n",
       "    5675/12474\n",
       " -16175/199584\n",
       "  26575/149688\n",
       "  16067/598752"
      ]
     },
     "metadata": {},
     "output_type": "display_data"
    }
   ],
   "source": [
    "for i in 1:10\n",
    "    display( NewtonCotesCoef(i) )\n",
    "end"
   ]
  },
  {
   "cell_type": "code",
   "execution_count": null,
   "id": "47b69552",
   "metadata": {},
   "outputs": [],
   "source": []
  }
 ],
 "metadata": {
  "kernelspec": {
   "display_name": "Julia 1.9.0-rc1",
   "language": "julia",
   "name": "julia-1.9"
  },
  "language_info": {
   "file_extension": ".jl",
   "mimetype": "application/julia",
   "name": "julia",
   "version": "1.9.0"
  }
 },
 "nbformat": 4,
 "nbformat_minor": 5
}
