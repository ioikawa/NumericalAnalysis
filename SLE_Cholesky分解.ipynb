{
 "cells": [
  {
   "cell_type": "markdown",
   "id": "88175d3c-86e5-4669-8212-8989692a6fdf",
   "metadata": {},
   "source": [
    "# Cholesky分解\n",
    "Juliaでは `LinearAlgebra`パッケージの`cholesky()`C.Lが用意されている．"
   ]
  },
  {
   "cell_type": "code",
   "execution_count": 10,
   "id": "57200bb0-f114-4a83-8257-d0dcff3fb50c",
   "metadata": {},
   "outputs": [
    {
     "data": {
      "text/plain": [
       "Cholesky{Float64, Matrix{Float64}}\n",
       "U factor:\n",
       "3×3 UpperTriangular{Float64, Matrix{Float64}}:\n",
       " 1.41421  -0.707107   0.0\n",
       "  ⋅        1.22474   -0.816497\n",
       "  ⋅         ⋅         1.1547"
      ]
     },
     "execution_count": 10,
     "metadata": {},
     "output_type": "execute_result"
    }
   ],
   "source": [
    "using LinearAlgebra\n",
    "A = Float64[2 -1 0;-1 2 -1; 0 -1 2]\n",
    "C = cholesky(A)"
   ]
  },
  {
   "cell_type": "code",
   "execution_count": 6,
   "id": "e103e176-b5b7-4552-9cdb-dc3adc2ad1d8",
   "metadata": {},
   "outputs": [
    {
     "data": {
      "text/plain": [
       "3×3 LowerTriangular{Float64, Matrix{Float64}}:\n",
       "  1.41421     ⋅         ⋅ \n",
       " -0.707107   1.22474    ⋅ \n",
       "  0.0       -0.816497  1.1547"
      ]
     },
     "execution_count": 6,
     "metadata": {},
     "output_type": "execute_result"
    }
   ],
   "source": [
    "C.L"
   ]
  },
  {
   "cell_type": "code",
   "execution_count": 26,
   "id": "0c4c47e1-75b2-4143-a451-3553ed5c81d9",
   "metadata": {},
   "outputs": [
    {
     "data": {
      "text/plain": [
       "false"
      ]
     },
     "execution_count": 26,
     "metadata": {},
     "output_type": "execute_result"
    }
   ],
   "source": [
    "C.L * C.L' == A"
   ]
  },
  {
   "cell_type": "markdown",
   "id": "038f9ad9-ef1b-4e74-9af0-081b85052cfb",
   "metadata": {},
   "source": [
    "理論的には一致するはずだが，なぜか？\n",
    "丸め誤差の影響と考えられる．"
   ]
  },
  {
   "cell_type": "code",
   "execution_count": 27,
   "id": "22bb2d61-d32e-47b3-9f03-3ee02fe1a12e",
   "metadata": {},
   "outputs": [
    {
     "data": {
      "text/plain": [
       "3×3 Matrix{Float64}:\n",
       " 4.44089e-16   0.0          0.0\n",
       " 0.0          -4.44089e-16  0.0\n",
       " 0.0           0.0          0.0"
      ]
     },
     "execution_count": 27,
     "metadata": {},
     "output_type": "execute_result"
    }
   ],
   "source": [
    "C.L * C.L' - A"
   ]
  },
  {
   "cell_type": "code",
   "execution_count": 37,
   "id": "e935c977-d043-46c3-9b30-1826d1e920ed",
   "metadata": {},
   "outputs": [
    {
     "data": {
      "text/plain": [
       "Cholesky{BigFloat, Matrix{BigFloat}}\n",
       "U factor:\n",
       "3×3 UpperTriangular{BigFloat, Matrix{BigFloat}}:\n",
       " 1.41421  -0.707107   0.0\n",
       "  ⋅        1.22474   -0.816497\n",
       "  ⋅         ⋅         1.1547"
      ]
     },
     "execution_count": 37,
     "metadata": {},
     "output_type": "execute_result"
    }
   ],
   "source": [
    "# 任意精度浮動小数点数で計算する\n",
    "A = BigFloat[2 -1 0;-1 2 -1; 0 -1 2]\n",
    "C = cholesky(A)"
   ]
  },
  {
   "cell_type": "code",
   "execution_count": 36,
   "id": "1b220477-dc81-49e5-b7e6-fa0d712e005e",
   "metadata": {},
   "outputs": [
    {
     "data": {
      "text/plain": [
       "true"
      ]
     },
     "execution_count": 36,
     "metadata": {},
     "output_type": "execute_result"
    }
   ],
   "source": [
    "Matrix{Float64}(C.L * C.L') == A   "
   ]
  },
  {
   "cell_type": "markdown",
   "id": "5896b84e-dd5c-4d58-bfaa-a1092db187a5",
   "metadata": {},
   "source": [
    "｀BigFloat`で計算後に `Float64`に変換すると，確かに一致した．"
   ]
  }
 ],
 "metadata": {
  "kernelspec": {
   "display_name": "Julia 1.9.0-rc1",
   "language": "julia",
   "name": "julia-1.9"
  },
  "language_info": {
   "file_extension": ".jl",
   "mimetype": "application/julia",
   "name": "julia",
   "version": "1.9.0"
  }
 },
 "nbformat": 4,
 "nbformat_minor": 5
}
