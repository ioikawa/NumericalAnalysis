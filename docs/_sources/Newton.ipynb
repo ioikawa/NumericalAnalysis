{
 "cells": [
  {
   "cell_type": "markdown",
   "id": "stupid-confusion",
   "metadata": {},
   "source": []
  },
  {
   "cell_type": "markdown",
   "id": "d4edce82",
   "metadata": {},
   "source": [
    "# Julia言語によるNewton法\n",
    "\n",
    "## テスト問題\n",
    "\n",
    "例として，次の$x_1,x_2$を未知変数とする連立非線形方程式を考える．\n",
    "\n",
    "$$\n",
    "\\begin{aligned}\n",
    "     x_2 = \\frac{2(x_1^3-1)}{3x_1^2-2}, \\quad\n",
    "     x_1 = \\frac{2(x_2^3-1)}{3x_2^2-2}.\n",
    " \\end{aligned}\n",
    "$$\n",
    "\n",
    "分母を払って，次の形にしてからNewton法で数値解を求める．\n",
    "\n",
    "$$\n",
    "\\begin{aligned}\n",
    "     x_2(3x_1^2-2) - 2(x_1^3-1) &= 0, \\quad\\\\\n",
    "     x_1(3x_2^2-2) - 2(x_2^3-1) &= 0.\n",
    " \\end{aligned}\n",
    "$$\n"
   ]
  },
  {
   "cell_type": "markdown",
   "id": "41be5d25",
   "metadata": {},
   "source": [
    "\n",
    "## ベクトル値関数の実装\n",
    "$\\vec{x} =(x_1,x_2)^T$とおいてベクトル値関数で書き直す：\n",
    "\n",
    "$$\n",
    "   \\vec f(\\vec{x}) = \\begin{bmatrix}\n",
    "       x_2(3x_1^2-2) - 2(x_1^3-1) \\\\ x_1(3x_2^2-2) - 2(x_2^3-1)\n",
    "   \\end{bmatrix}\n",
    "$$\n",
    "\n",
    "このベクトル値関数をJulia言語で実装すると次のようになる"
   ]
  },
  {
   "cell_type": "code",
   "execution_count": 1,
   "id": "floating-candidate",
   "metadata": {},
   "outputs": [
    {
     "data": {
      "text/plain": [
       "f (generic function with 1 method)"
      ]
     },
     "metadata": {},
     "output_type": "display_data"
    }
   ],
   "source": [
    "function f(x) \n",
    "   return [x[2]*(3x[1]^2-2)-2*(x[1]^3-1), \n",
    "           x[1]*(3x[2]^2-2)-2*(x[2]^3-1)]\n",
    "end\n",
    "#（いまの場合，return は書いても書かなくても同じ動作になる．）"
   ]
  },
  {
   "cell_type": "code",
   "execution_count": 4,
   "id": "baf117e5",
   "metadata": {},
   "outputs": [
    {
     "data": {
      "text/plain": [
       "2-element Vector{Int64}:\n",
       "  2\n",
       " -4"
      ]
     },
     "metadata": {},
     "output_type": "display_data"
    }
   ],
   "source": [
    "# 表示テスト\n",
    "f([1,2])"
   ]
  },
  {
   "cell_type": "markdown",
   "id": "equal-affiliation",
   "metadata": {},
   "source": [
    "## 行列を返す関数\n",
    "$f$の微分\n",
    "\n",
    "$$\n",
    "\\begin{aligned}\n",
    "    D\\vec f(\\vec x) = \\begin{bmatrix}\n",
    "         6x_1(x_2 - x_1) & 3x_1^2 - 2 \\\\\n",
    "         3x_2^2 - 2       & 6x_2(x_1 - x_2) \n",
    "    \\end{bmatrix}\n",
    "\\end{aligned}\n",
    "$$\n",
    "\n",
    "は次のように実装される．"
   ]
  },
  {
   "cell_type": "code",
   "execution_count": null,
   "id": "cross-scientist",
   "metadata": {},
   "outputs": [
    {
     "data": {
      "text/plain": [
       "Df (generic function with 1 method)"
      ]
     },
     "execution_count": 2,
     "metadata": {},
     "output_type": "execute_result"
    }
   ],
   "source": [
    "function Df(x) \n",
    "   return [ 6x[1]*(x[2]-x[1]) 3x[1]^2 - 2; \n",
    "            3x[2]^2 - 2       6x[2]*(x[1]-x[2]) ]\n",
    "end"
   ]
  },
  {
   "cell_type": "markdown",
   "id": "macro-scottish",
   "metadata": {},
   "source": [
    "## ベクトルノルムの計算\n",
    "`LinearAlgebra` パッケージに含まれる `norm(x)`関数を用いればよい．"
   ]
  },
  {
   "cell_type": "code",
   "execution_count": null,
   "id": "attached-algebra",
   "metadata": {},
   "outputs": [],
   "source": [
    "using LinearAlgebra\n",
    "norm([3,4])"
   ]
  },
  {
   "cell_type": "markdown",
   "id": "1be1af3e-48fa-4864-b14f-fcd54ad5e19c",
   "metadata": {},
   "source": [
    "# Newton法の実装例"
   ]
  },
  {
   "cell_type": "code",
   "execution_count": 5,
   "id": "b5568180-a300-4e94-a191-e8a2484e62e3",
   "metadata": {},
   "outputs": [
    {
     "data": {
      "text/plain": [
       "newton (generic function with 1 method)"
      ]
     },
     "metadata": {},
     "output_type": "display_data"
    }
   ],
   "source": [
    "function newton(x0, f, Df) \n",
    "    maxiter = 100  # 最大反復回数．適宜調整する．\n",
    "    tol = 1e-6     # 停止条件の tolerance．適宜調整．\n",
    "    x2 = x1 = x0 # 初期値\n",
    "\n",
    "    for i in 1:maxiter\n",
    "        x2 = x1 - Df(x1)\\f(x1)\n",
    "        \n",
    "        # 途中経過の表示\n",
    "        @show x2\n",
    "\n",
    "        # 停止条件の判定    \n",
    "        if norm(x2 - x1) < tol\n",
    "            println(\"Converged in $i iterations.\")\n",
    "            break            \n",
    "        end \n",
    "\n",
    "        x1 = x2\n",
    "    end\n",
    "    return x2    # 数値解を返却\n",
    "end"
   ]
  },
  {
   "cell_type": "code",
   "execution_count": null,
   "id": "1c625e04-7e6b-4c69-8cef-8e9697353b20",
   "metadata": {},
   "outputs": [
    {
     "name": "stdout",
     "output_type": "stream",
     "text": [
      "x2 = [0.7560975609756099, 1.4634146341463414]\n",
      "x2 = [0.5029763823402265, 1.1345403971724854]\n",
      "x2 = [0.25966787278100684, 1.0328156143793141]\n",
      "x2 = [0.16995113647132837, 1.0329276834590135]\n",
      "x2 = [0.13919422518279553, 1.026010442412023]\n",
      "x2 = [0.1335617576321694, 1.0250066011829135]\n",
      "x2 = [0.13334617621475647, 1.0249665965508747]\n",
      "x2 = [0.13334585756067838, 1.024966537617847]\n",
      "Converged in 8 iterations.\n"
     ]
    },
    {
     "data": {
      "text/plain": [
       "2-element Vector{Float64}:\n",
       " 0.13334585756067838\n",
       " 1.024966537617847"
      ]
     },
     "execution_count": 5,
     "metadata": {},
     "output_type": "execute_result"
    }
   ],
   "source": [
    "newton([1.0,2.0],f,Df)"
   ]
  },
  {
   "cell_type": "code",
   "execution_count": null,
   "id": "9f0e2c14-c67e-44fa-9851-4672a0bf9ba6",
   "metadata": {},
   "outputs": [],
   "source": []
  }
 ],
 "metadata": {
  "kernelspec": {
   "display_name": "Julia 1.6.7",
   "language": "julia",
   "name": "julia-1.6"
  },
  "language_info": {
   "file_extension": ".jl",
   "mimetype": "application/julia",
   "name": "julia",
   "version": "1.6.7"
  }
 },
 "nbformat": 4,
 "nbformat_minor": 5
}
