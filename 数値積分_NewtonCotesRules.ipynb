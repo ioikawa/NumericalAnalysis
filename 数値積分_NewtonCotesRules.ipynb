{
 "cells": [
  {
   "cell_type": "markdown",
   "id": "b25e8f0d-3b26-4857-93b4-1ea66ea36196",
   "metadata": {},
   "source": [
    "# Newton--Cotes型数値積分公式\n",
    "\n",
    "## 台形公式による数値積分の計算例\n",
    "- 区間 $[a,b] := [0,\\pi/2]$\n",
    "- 被積分関数 $f(x) = \\sin(x)$\n",
    "\n",
    "台形公式：\n",
    "$$\n",
    "    Q_1[f] =  \\frac{b-a}{2} (f(a) + f(b))\n",
    "$$"
   ]
  },
  {
   "cell_type": "markdown",
   "id": "d936aad2",
   "metadata": {},
   "source": []
  },
  {
   "cell_type": "code",
   "execution_count": 21,
   "id": "a527eb6f",
   "metadata": {},
   "outputs": [
    {
     "data": {
      "text/plain": [
       "trapezoidal_rule (generic function with 2 methods)"
      ]
     },
     "metadata": {},
     "output_type": "display_data"
    }
   ],
   "source": [
    "# 台形公式\n",
    "# f: 被積分関数\n",
    "# a,b: 積分区間\n",
    "function trapezoidal_rule(f,a,b)\n",
    "    (b-a)/2*(f(a) + f(b))\n",
    "end"
   ]
  },
  {
   "cell_type": "code",
   "execution_count": 22,
   "id": "59d22132",
   "metadata": {},
   "outputs": [
    {
     "data": {
      "text/plain": [
       "0.7853981633974483"
      ]
     },
     "metadata": {},
     "output_type": "display_data"
    }
   ],
   "source": [
    "f(x) = sin(x)\n",
    "trapezoidal_rule(f,0,pi/2)"
   ]
  },
  {
   "cell_type": "markdown",
   "id": "8c30fee5",
   "metadata": {},
   "source": [
    "## 複合台形公式\n",
    "\n",
    "- 区間 $[a,b] := [0,\\pi/2]$\n",
    "- 被積分関数 $f(x) = \\sin(x)$\n",
    "- 分割数 $N = 8$\n",
    "- （小）区間幅 $h = (b-a)/N$\n",
    "\n",
    "台形公式：\n",
    "$$\n",
    "    \\tilde{Q}_1[f] =  \\frac{h}{2}\\sum_{i=1}^N  \\left[ f(a + (i-1)h)) + f(a + ih)\\right]\n",
    "$$"
   ]
  },
  {
   "cell_type": "code",
   "execution_count": 23,
   "id": "affae929",
   "metadata": {},
   "outputs": [
    {
     "data": {
      "text/plain": [
       "comp_trapezoidal_rule (generic function with 1 method)"
      ]
     },
     "metadata": {},
     "output_type": "display_data"
    }
   ],
   "source": [
    "function comp_trapezoidal_rule(f,a,b, N)\n",
    "    h = (b-a)/N\n",
    "    return h/2*sum(f(a + (i-1)*h) + f(a + i*h) for i in 1:N)\n",
    "end"
   ]
  },
  {
   "cell_type": "code",
   "execution_count": 24,
   "id": "8c127600",
   "metadata": {},
   "outputs": [
    {
     "name": "stdout",
     "output_type": "stream",
     "text": [
      "I = comp_trapezoidal_rule(f, 0, pi / 2, 16) = 0.999196680485072\n",
      "1 - I = 0.0008033195149279582\n"
     ]
    },
    {
     "data": {
      "text/plain": [
       "0.0008033195149279582"
      ]
     },
     "metadata": {},
     "output_type": "display_data"
    }
   ],
   "source": [
    "@show I = comp_trapezoidal_rule(f,0,pi/2,16)\n",
    "\n",
    "# 誤差表示\n",
    "@show  1-I"
   ]
  },
  {
   "cell_type": "markdown",
   "id": "e0559d88",
   "metadata": {},
   "source": []
  },
  {
   "cell_type": "code",
   "execution_count": 25,
   "id": "a07e0893",
   "metadata": {},
   "outputs": [],
   "source": []
  }
 ],
 "metadata": {
  "kernelspec": {
   "display_name": "Julia 1.6.7",
   "language": "julia",
   "name": "julia-1.6"
  },
  "language_info": {
   "file_extension": ".jl",
   "mimetype": "application/julia",
   "name": "julia",
   "version": "1.6.7"
  }
 },
 "nbformat": 4,
 "nbformat_minor": 5
}
