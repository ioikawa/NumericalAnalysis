{
 "cells": [
  {
   "cell_type": "markdown",
   "id": "vital-minimum",
   "metadata": {},
   "source": [
    "# Hilbert行列の条件数の数値計算\n",
    "\n",
    "## Hilbert行列の逆行列\n",
    "$n$次Hilbert行列の逆行列の第$(i,j)$成分は\n",
    "$$ \n",
    "     (-1)^{i+j}(i+j-1)\\begin{pmatrix} n+i-1 \\\\ n-j \\end{pmatrix}\n",
    "    \\begin{pmatrix} n+j-1 \\\\ n-i \\end{pmatrix} \n",
    "    \\begin{pmatrix} i+j-2 \\\\ i-1 \\end{pmatrix}^2\n",
    "$$\n",
    "であることが示されている．念のためJuliaで計算して確認しておこう．"
   ]
  },
  {
   "cell_type": "code",
   "execution_count": 2,
   "id": "occasional-bikini",
   "metadata": {},
   "outputs": [
    {
     "data": {
      "text/plain": [
       "5×5 Matrix{BigFloat}:\n",
       " 1.0  0.0  0.0  0.0           0.0\n",
       " 0.0  1.0  0.0  0.0           0.0\n",
       " 0.0  0.0  1.0  3.05812e-297  0.0\n",
       " 0.0  0.0  0.0  1.0           0.0\n",
       " 0.0  0.0  0.0  0.0           1.0"
      ]
     },
     "execution_count": 2,
     "metadata": {},
     "output_type": "execute_result"
    }
   ],
   "source": [
    "setprecision(1000)\n",
    "H(n) = [big(1)/(i+j-1) for i in 1:n, j in 1:n]    \n",
    "Hinv(n) = [(-1)^(i+j)*(i+j-1)*binomial(big(n+i-1),n-j)*binomial(big(n+j-1),n-i)*binomial(big(i+j-2),i-1)^2 \n",
    "        for i in 1:n, j in 1:n]\n",
    "H(5)*Hinv(5) "
   ]
  },
  {
   "cell_type": "markdown",
   "id": "english-freeware",
   "metadata": {},
   "source": [
    "## 1-normに関する条件数の計算\n",
    "1-normから誘導される行列ノルムは，「最大列和」であったから，そのまま実装する："
   ]
  },
  {
   "cell_type": "code",
   "execution_count": 4,
   "id": "super-retail",
   "metadata": {},
   "outputs": [
    {
     "data": {
      "text/plain": [
       "mat1norm (generic function with 1 method)"
      ]
     },
     "execution_count": 4,
     "metadata": {},
     "output_type": "execute_result"
    }
   ],
   "source": [
    "mat1norm(A) = maximum([sum(abs.(A[:,j])) for j in 1:size(A)[1]]) "
   ]
  },
  {
   "cell_type": "markdown",
   "id": "entire-equipment",
   "metadata": {},
   "source": [
    "`sum(abs.(A[:,j])`は$A$の第$j$列の絶対値の和を計算している．\n",
    "`mat1norm(H(n))`を計算した結果下記の表のとおり．"
   ]
  },
  {
   "cell_type": "code",
   "execution_count": 11,
   "id": "medium-short",
   "metadata": {},
   "outputs": [
    {
     "name": "stdout",
     "output_type": "stream",
     "text": [
      "Float64(mat1norm(H(n)) * mat1norm(Hinv(n))) = 1.0\n",
      "Float64(mat1norm(H(n)) * mat1norm(Hinv(n))) = 27.0\n",
      "Float64(mat1norm(H(n)) * mat1norm(Hinv(n))) = 748.0\n",
      "Float64(mat1norm(H(n)) * mat1norm(Hinv(n))) = 28375.0\n",
      "Float64(mat1norm(H(n)) * mat1norm(Hinv(n))) = 943656.0\n",
      "Float64(mat1norm(H(n)) * mat1norm(Hinv(n))) = 2.9070279e7\n",
      "Float64(mat1norm(H(n)) * mat1norm(Hinv(n))) = 9.851948865e8\n",
      "Float64(mat1norm(H(n)) * mat1norm(Hinv(n))) = 3.3872791095e10\n",
      "Float64(mat1norm(H(n)) * mat1norm(Hinv(n))) = 1.0996545413425e12\n",
      "Float64(mat1norm(H(n)) * mat1norm(Hinv(n))) = 3.5357439251992e13\n",
      "Float64(mat1norm(H(n)) * mat1norm(Hinv(n))) = 1.2337023575988502e15\n",
      "Float64(mat1norm(H(n)) * mat1norm(Hinv(n))) = 4.115445402289639e16\n",
      "Float64(mat1norm(H(n)) * mat1norm(Hinv(n))) = 1.324409009034709e18\n",
      "Float64(mat1norm(H(n)) * mat1norm(Hinv(n))) = 4.537757843943819e19\n",
      "Float64(mat1norm(H(n)) * mat1norm(Hinv(n))) = 1.5391915629553123e21\n",
      "Float64(mat1norm(H(n)) * mat1norm(Hinv(n))) = 5.0627747875083205e22\n",
      "Float64(mat1norm(H(n)) * mat1norm(Hinv(n))) = 1.6808111347950284e24\n",
      "Float64(mat1norm(H(n)) * mat1norm(Hinv(n))) = 5.766065538106093e25\n",
      "Float64(mat1norm(H(n)) * mat1norm(Hinv(n))) = 1.925770280228506e27\n",
      "Float64(mat1norm(H(n)) * mat1norm(Hinv(n))) = 6.283579684317888e28\n"
     ]
    }
   ],
   "source": [
    "for n in 1:20\n",
    "    @show Float64(mat1norm(H(n))*mat1norm(Hinv(n)))\n",
    "end"
   ]
  },
  {
   "cell_type": "markdown",
   "id": "creative-worker",
   "metadata": {},
   "source": [
    "## Remark\n",
    "\n",
    "- Julia言語では，行列 $p$-normはLinearAlgebraパッケージの`opnorm(A,p)`で計算できる．\n",
    "また，$\\cond_p(A)$は 同パッケージの`cond(A,p)`で計算できる．\n",
    "しかし，いずれの関数も `Float64`型行列にのみ対応していて，\n",
    "`BigFloat`型行列を引数として渡すとエラーになってしまう．\n",
    "- 条件数の大きな行列$A$の逆行列を`inv(A)`などで計算した場合，一般に誤差が大きいので注意．\n",
    "例として，Hilbert行列で試してみよう．"
   ]
  },
  {
   "cell_type": "code",
   "execution_count": 12,
   "id": "chief-collectible",
   "metadata": {},
   "outputs": [
    {
     "data": {
      "text/plain": [
       "4.391966739292475e13"
      ]
     },
     "execution_count": 12,
     "metadata": {},
     "output_type": "execute_result"
    }
   ],
   "source": [
    "H(n) = [1/(i+j-1) for i in 1:n, j in 1:n]\n",
    "inv(H(15))[15,15]   # (15,15)成分\n"
   ]
  },
  {
   "cell_type": "markdown",
   "id": "elementary-favorite",
   "metadata": {},
   "source": [
    "しかし，$H_{15}^{-1}$の$(15,15)$成分の真値は $46670906271240000 \\approx$ `4.666e17` であり，\n",
    "指数ですら全く異なる値になってしまっている．\n",
    " \n",
    "- $A$の条件数が大きい場合，`inv(A)`と同様に，`cond(A)`の値の信頼性が低いことに注意．"
   ]
  },
  {
   "cell_type": "code",
   "execution_count": 14,
   "id": "wireless-objective",
   "metadata": {},
   "outputs": [
    {
     "data": {
      "text/plain": [
       "1.221413576195944e18"
      ]
     },
     "execution_count": 14,
     "metadata": {},
     "output_type": "execute_result"
    }
   ],
   "source": [
    "using LinearAlgebra\n",
    "cond(H(15),1)"
   ]
  },
  {
   "cell_type": "markdown",
   "id": "aggregate-drilling",
   "metadata": {},
   "source": [
    "真値は先に計算したとおり，約`1.5391915629553123e+21`なので，全然違う値になってしまった．\n",
    "\n",
    "- 与えられた行列の条件数の正確な値を計算することは難しいが，\n",
    "おおよその値を（`cond(A)`より正確に）推定する方法は既に知られている．・・・齊藤「数値解析」（共立出版）のp.180 参照\n",
    "\n",
    "正確な値でなくとも，条件数の大小が判明するだけでも大きな役に立つ．\n",
    "\n",
    "- 1-normの推定法として，Hagerのアルゴリズム\n",
    "[Hager: Condition Estimates,  SIAM J. Sci. Stat. Comput. 5  (1984) 311-316.]\n",
    "が最も優れているらしい．\n",
    "LAPACKやMATLABの`condest()`の実装（の一部）に用いられている．\n",
    "\n",
    "- LAPACKは線形代数の数値計算ライブラリである（公式サイト: [LAPACK -- Linear Algebra PACKage](\\url{https://netlib.org/lapack})）.「レイパック」や「エルエーパック」と発音するのが正しいとされるが，それを知っていてもなお「ラパック」と呼んでしまう．\n"
   ]
  },
  {
   "cell_type": "code",
   "execution_count": null,
   "id": "impaired-union",
   "metadata": {},
   "outputs": [],
   "source": []
  }
 ],
 "metadata": {
  "kernelspec": {
   "display_name": "Julia 1.6.7",
   "language": "julia",
   "name": "julia-1.6"
  },
  "language_info": {
   "file_extension": ".jl",
   "mimetype": "application/julia",
   "name": "julia",
   "version": "1.6.7"
  }
 },
 "nbformat": 4,
 "nbformat_minor": 5
}
