{
 "cells": [
  {
   "cell_type": "markdown",
   "id": "1eda76c2-192a-4a88-81f8-8410ab842943",
   "metadata": {
    "tags": []
   },
   "source": [
    "# 前進消去の行列積表現\n",
    "行列 $A$ を前進消去することは，ある下三角行列 $M$ を左かけて上三角行列 $U$ を得ることと同値である：\n",
    "$$\n",
    "  MA = U.\n",
    "$$\n",
    "$A$を同じサイズの単位行列$E$を右側につけて拡大した行列 \n",
    "$$\\begin{pmatrix} A & E \\end{pmatrix}$$\n",
    "に対して，左半分の$A$の部分を前進消去したとき，\n",
    "$$\n",
    "  \\begin{pmatrix} U & M \\end{pmatrix}\n",
    "$$\n",
    "となることから，$U$, $M$を具体的に計算できる．"
   ]
  },
  {
   "cell_type": "code",
   "execution_count": 1,
   "id": "14de3d3f-b648-46f9-8f6f-a9da4a98ad49",
   "metadata": {},
   "outputs": [
    {
     "data": {
      "text/plain": [
       "3×6 Matrix{Float64}:\n",
       " 1.0  2.0   3.0  1.0  0.0  0.0\n",
       " 1.0  4.0   9.0  0.0  1.0  0.0\n",
       " 1.0  8.0  27.0  0.0  0.0  1.0"
      ]
     },
     "execution_count": 1,
     "metadata": {},
     "output_type": "execute_result"
    }
   ],
   "source": [
    "A = Float64[1 2 3; 1 4 9; 1 8 27]\n",
    "E = Float64[1 0 0; 0 1 0; 0 0 1]\n",
    "\n",
    "At = [A E]   "
   ]
  },
  {
   "cell_type": "code",
   "execution_count": 2,
   "id": "0aa5d5ee-49f0-4bc9-9fe8-ca9133817a82",
   "metadata": {},
   "outputs": [
    {
     "data": {
      "text/plain": [
       "3×6 Matrix{Float64}:\n",
       " 1.0  2.0  3.0   1.0   0.0  0.0\n",
       " 0.0  2.0  6.0  -1.0   1.0  0.0\n",
       " 0.0  0.0  6.0   2.0  -3.0  1.0"
      ]
     },
     "execution_count": 2,
     "metadata": {},
     "output_type": "execute_result"
    }
   ],
   "source": [
    "# 前進消去\n",
    "n, m = size(A)\n",
    "for k in 1:(n-1), i in (k+1):n    \n",
    "    At[i,:] -= At[i,k]/At[k,k]*At[k,:]\n",
    "end\n",
    "    \n",
    "At"
   ]
  },
  {
   "cell_type": "code",
   "execution_count": 3,
   "id": "cd1f5ea2-d557-40c6-a6fd-9e6b497216bf",
   "metadata": {},
   "outputs": [
    {
     "data": {
      "text/plain": [
       "3×3 Matrix{Float64}:\n",
       " 1.0  2.0  3.0\n",
       " 0.0  2.0  6.0\n",
       " 0.0  0.0  6.0"
      ]
     },
     "execution_count": 3,
     "metadata": {},
     "output_type": "execute_result"
    }
   ],
   "source": [
    "U = At[:,1:3]   # 左半分"
   ]
  },
  {
   "cell_type": "code",
   "execution_count": 4,
   "id": "be746632-85c3-4a2c-8c76-c6452f4504a7",
   "metadata": {},
   "outputs": [
    {
     "data": {
      "text/plain": [
       "3×3 Matrix{Float64}:\n",
       "  1.0   0.0  0.0\n",
       " -1.0   1.0  0.0\n",
       "  2.0  -3.0  1.0"
      ]
     },
     "execution_count": 4,
     "metadata": {},
     "output_type": "execute_result"
    }
   ],
   "source": [
    "M = At[:,4:6]   # 右半分"
   ]
  },
  {
   "cell_type": "code",
   "execution_count": 5,
   "id": "bd31f57b-0123-4d37-b18d-3aff3a483466",
   "metadata": {},
   "outputs": [
    {
     "data": {
      "text/plain": [
       "true"
      ]
     },
     "execution_count": 5,
     "metadata": {},
     "output_type": "execute_result"
    }
   ],
   "source": [
    "M*A == U  # 確認"
   ]
  }
 ],
 "metadata": {
  "kernelspec": {
   "display_name": "Julia 1.9.0-beta3",
   "language": "julia",
   "name": "julia-1.9"
  },
  "language_info": {
   "file_extension": ".jl",
   "mimetype": "application/julia",
   "name": "julia",
   "version": "1.9.0"
  }
 },
 "nbformat": 4,
 "nbformat_minor": 5
}
