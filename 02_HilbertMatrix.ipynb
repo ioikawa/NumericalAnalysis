{
 "cells": [
  {
   "cell_type": "markdown",
   "id": "twelve-subject",
   "metadata": {},
   "source": [
    "# Hilbert行列の条件数の数値計算\n",
    "\n",
    "## Hilbert行列の逆行列\n",
    "$n$次Hilbert行列の逆行列の第$(i,j)$成分は\n",
    "$$ \n",
    "     (-1)^{i+j}(i+j-1)\\begin{pmatrix} n+i-1 \\\\ n-j \\end{pmatrix}\n",
    "    \\begin{pmatrix} n+j-1 \\\\ n-i \\end{pmatrix} \n",
    "    \\begin{pmatrix} i+j-2 \\\\ i-1 \\end{pmatrix}^2\n",
    "$$\n",
    "であることが示されている．念のためJuliaで計算して確認しておこう．"
   ]
  },
  {
   "cell_type": "code",
   "execution_count": 2,
   "id": "married-arctic",
   "metadata": {},
   "outputs": [
    {
     "data": {
      "text/plain": [
       "5×5 Matrix{BigFloat}:\n",
       " 1.0  0.0  0.0  0.0           0.0\n",
       " 0.0  1.0  0.0  0.0           0.0\n",
       " 0.0  0.0  1.0  3.05812e-297  0.0\n",
       " 0.0  0.0  0.0  1.0           0.0\n",
       " 0.0  0.0  0.0  0.0           1.0"
      ]
     },
     "execution_count": 2,
     "metadata": {},
     "output_type": "execute_result"
    }
   ],
   "source": [
    "setprecision(1000)\n",
    "H(n) = [big(1)/(i+j-1) for i in 1:n, j in 1:n]    \n",
    "Hinv(n) = [(-1)^(i+j)*(i+j-1)*binomial(big(n+i-1),n-j)*binomial(big(n+j-1),n-i)*binomial(big(i+j-2),i-1)^2 \n",
    "        for i in 1:n, j in 1:n]\n",
    "H(5)*Hinv(5) "
   ]
  },
  {
   "cell_type": "markdown",
   "id": "artistic-recording",
   "metadata": {},
   "source": [
    "## 1-normに関する条件数の計算\n",
    "1-normから誘導される行列ノルムは，「最大列和」であったから，そのまま実装する："
   ]
  },
  {
   "cell_type": "code",
   "execution_count": 4,
   "id": "dental-safety",
   "metadata": {},
   "outputs": [
    {
     "data": {
      "text/plain": [
       "mat1norm (generic function with 1 method)"
      ]
     },
     "execution_count": 4,
     "metadata": {},
     "output_type": "execute_result"
    }
   ],
   "source": [
    "mat1norm(A) = maximum([sum(abs.(A[:,j])) for j in 1:size(A)[1]]) "
   ]
  },
  {
   "cell_type": "markdown",
   "id": "particular-louis",
   "metadata": {},
   "source": [
    "`sum(abs.(A[:,j])`は$A$の第$j$列の絶対値の和を計算している．\n",
    "`mat1norm(H(n))`を計算した結果下記の表のとおり．"
   ]
  },
  {
   "cell_type": "code",
   "execution_count": 11,
   "id": "detected-update",
   "metadata": {},
   "outputs": [
    {
     "name": "stdout",
     "output_type": "stream",
     "text": [
      "Float64(mat1norm(H(n)) * mat1norm(Hinv(n))) = 1.0\n",
      "Float64(mat1norm(H(n)) * mat1norm(Hinv(n))) = 27.0\n",
      "Float64(mat1norm(H(n)) * mat1norm(Hinv(n))) = 748.0\n",
      "Float64(mat1norm(H(n)) * mat1norm(Hinv(n))) = 28375.0\n",
      "Float64(mat1norm(H(n)) * mat1norm(Hinv(n))) = 943656.0\n",
      "Float64(mat1norm(H(n)) * mat1norm(Hinv(n))) = 2.9070279e7\n",
      "Float64(mat1norm(H(n)) * mat1norm(Hinv(n))) = 9.851948865e8\n",
      "Float64(mat1norm(H(n)) * mat1norm(Hinv(n))) = 3.3872791095e10\n",
      "Float64(mat1norm(H(n)) * mat1norm(Hinv(n))) = 1.0996545413425e12\n",
      "Float64(mat1norm(H(n)) * mat1norm(Hinv(n))) = 3.5357439251992e13\n",
      "Float64(mat1norm(H(n)) * mat1norm(Hinv(n))) = 1.2337023575988502e15\n",
      "Float64(mat1norm(H(n)) * mat1norm(Hinv(n))) = 4.115445402289639e16\n",
      "Float64(mat1norm(H(n)) * mat1norm(Hinv(n))) = 1.324409009034709e18\n",
      "Float64(mat1norm(H(n)) * mat1norm(Hinv(n))) = 4.537757843943819e19\n",
      "Float64(mat1norm(H(n)) * mat1norm(Hinv(n))) = 1.5391915629553123e21\n",
      "Float64(mat1norm(H(n)) * mat1norm(Hinv(n))) = 5.0627747875083205e22\n",
      "Float64(mat1norm(H(n)) * mat1norm(Hinv(n))) = 1.6808111347950284e24\n",
      "Float64(mat1norm(H(n)) * mat1norm(Hinv(n))) = 5.766065538106093e25\n",
      "Float64(mat1norm(H(n)) * mat1norm(Hinv(n))) = 1.925770280228506e27\n",
      "Float64(mat1norm(H(n)) * mat1norm(Hinv(n))) = 6.283579684317888e28\n"
     ]
    }
   ],
   "source": [
    "for n in 1:20\n",
    "    @show Float64(mat1norm(H(n))*mat1norm(Hinv(n)))\n",
    "end"
   ]
  },
  {
   "cell_type": "code",
   "execution_count": null,
   "id": "secondary-senior",
   "metadata": {},
   "outputs": [],
   "source": []
  }
 ],
 "metadata": {
  "kernelspec": {
   "display_name": "Julia 1.7.3",
   "language": "julia",
   "name": "julia-1.7"
  },
  "language_info": {
   "file_extension": ".jl",
   "mimetype": "application/julia",
   "name": "julia",
   "version": "1.7.3"
  }
 },
 "nbformat": 4,
 "nbformat_minor": 5
}
