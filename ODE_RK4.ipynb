{
 "cells": [
  {
   "cell_type": "markdown",
   "id": "0b1f1fb8-169b-44de-8dc3-3710fc87f2b4",
   "metadata": {},
   "source": [
    "# 常微分方程式の数値計算\n",
    "## Juliaによる4次のRunge-Kutta 法の実装例\n",
    "\n",
    "常微分方程式の初期値問題\n",
    "$$ \n",
    "u'(t) = u^2 + 1, \\quad u(0) = 0 \n",
    "$$\n",
    "を4次のRunge-Kutta法で解く．  \n",
    "\n",
    "区間$[0,T]$は$N$等分されているとする．  "
   ]
  },
  {
   "cell_type": "code",
   "execution_count": 1,
   "id": "e5f97a18-45e5-49b8-97c1-98818af60cde",
   "metadata": {},
   "outputs": [
    {
     "name": "stdout",
     "output_type": "stream",
     "text": [
      "u(0.07853981633974483) = 0.0787016819812243\n",
      "u(0.15707963267948966) = 0.15838439225994136\n",
      "u(0.23561944901923448) = 0.24007869167661677\n",
      "u(0.3141592653589793) = 0.32491961606901587\n",
      "u(0.39269908169872414) = 0.4142134794912904\n",
      "u(0.47123889803846897) = 0.5095253784942075\n",
      "u(0.5497787143782138) = 0.6128007494641663\n",
      "u(0.6283185307179586) = 0.7265425488476249\n",
      "u(0.7068583470577035) = 0.8540807983615406\n",
      "u(0.7853981633974483) = 1.000000233034054\n"
     ]
    }
   ],
   "source": [
    "f(t, u) = u^2 + 1   # 厳密解は u(t) = tan(t) + u(0)\n",
    "u = 0\n",
    "T = pi/4\n",
    "N = 10\n",
    "h = T/N\n",
    "\n",
    "for i in 0:N-1\n",
    "    t = h*i\n",
    "    k1 = f(t, u) \n",
    "    k2 = f(t + h/2, u + h/2 * k1)\n",
    "    k3 = f(t + h/2, u + h/2 * k2)\n",
    "    k4 = f(t + h, u + h * k3)\n",
    "    u += h/6 * (k1 + 2k2 + 2k3 + k4)\n",
    "\n",
    "    println(\"u($(t+h)) = $u\")\n",
    "end"
   ]
  },
  {
   "cell_type": "markdown",
   "id": "d351f21f-067c-425b-9675-ce5394e57cbf",
   "metadata": {},
   "source": [
    "## ベクトル値関数版"
   ]
  },
  {
   "cell_type": "code",
   "execution_count": 4,
   "id": "161a79d6-fdb3-4bd6-9b65-46db80636b94",
   "metadata": {},
   "outputs": [],
   "source": [
    "function f(t, u)\n",
    "    [u[1]*(1-u[2]), -u[2]*(1-u[1])]\n",
    "end\n",
    "T = 50; \n",
    "N= T*100; \n",
    "h=T/N;\n",
    "U = Float64[1,4]    # 初期値  \n",
    "Uhist = U   # 履歴保存用\n",
    "\n",
    "for t in 0:h:T  # t=0,h,2h,...,T\n",
    "    k1 = f(t,U)\n",
    "    k2 = f(t+h/2, U+h/2*k1)\n",
    "    k3 = f(t+h/2, U+h/2*k2)\n",
    "    k4 = f(t+h, U+h*k3)\n",
    "    U += h/6*(k1+2k2+2k3+k4)\n",
    "    Uhist = hcat(Uhist, U)  # 履歴追加\n",
    "end"
   ]
  },
  {
   "cell_type": "code",
   "execution_count": 6,
   "id": "3d6a221c-6e1d-4b73-961f-4cc60308d07b",
   "metadata": {},
   "outputs": [],
   "source": [
    "# グラフ描画\n",
    "using PyPlot \n",
    "cla()   # キャンバスクリア\n",
    "plot(Uhist[1,:],Uhist[2,:],marker=nothing)\n",
    "grid()"
   ]
  },
  {
   "cell_type": "code",
   "execution_count": null,
   "id": "3488f2fa-11ba-4598-b440-1d960990a631",
   "metadata": {},
   "outputs": [],
   "source": []
  }
 ],
 "metadata": {
  "kernelspec": {
   "display_name": "Julia 1.11.2",
   "language": "julia",
   "name": "julia-1.11"
  },
  "language_info": {
   "file_extension": ".jl",
   "mimetype": "application/julia",
   "name": "julia",
   "version": "1.11.2"
  }
 },
 "nbformat": 4,
 "nbformat_minor": 5
}
